{
 "cells": [
  {
   "cell_type": "markdown",
   "metadata": {},
   "source": [
    "## Тестовые случаи\n",
    "\n",
    "Входные данные представлены парой документов в формате `doc`\n",
    "\n",
    "1. Документы с текстом\n",
    "\n",
    "- Два идентичных файла\n",
    "- Два идентичных по содержанию с разным форматированием\n",
    "- 1 файл целиком состоит из части текста взятого из файла 2\n",
    "- 1 файл целиком состоит из части текста взятого из файла 2 с другим форматированием\n",
    "- 1 файл содержит текст из файла 2\n",
    "- 1 файл содержит текст из файла 2 c другим форматированием\n",
    "- 1 файл содержит перефразированный текст из файла 2\n",
    "\n",
    "1. Документы с изображениями\n",
    "\n",
    "- Два идентичных файла\n",
    "- 1 файл целиком состоит из части картинок из файла 2\n",
    "- 1 файл содержит картинки из файла 2\n",
    "- 1 файл содержит ресайзнутые или смещенные картинки из файла 2\n",
    "\n",
    "3. Документы с текстом и с изображениями\n",
    "\n",
    "- Два идентичных файла\n",
    "- 1 файл содержит текст и картинки из файла 2\n"
   ]
  },
  {
   "cell_type": "markdown",
   "metadata": {},
   "source": [
    "## Наивные тесты с документами"
   ]
  },
  {
   "cell_type": "markdown",
   "metadata": {},
   "source": [
    "Идентичные файлы"
   ]
  },
  {
   "cell_type": "markdown",
   "metadata": {},
   "source": [
    "Для идентичных файлов достаточно сравнить их хэши, чтобы определить, что один из файлов является дубликатом."
   ]
  },
  {
   "cell_type": "code",
   "execution_count": 1,
   "metadata": {},
   "outputs": [],
   "source": [
    "import hashlib\n",
    "\n",
    "def sha256_hash_file(filename: str) -> str:\n",
    "    sha256_hash = hashlib.sha256()\n",
    "\n",
    "    with open(filename,\"rb\") as f:\n",
    "        for byte_block in iter(lambda: f.read(4096),b\"\"):\n",
    "            sha256_hash.update(byte_block)\n",
    "\n",
    "    return sha256_hash.hexdigest()\n"
   ]
  },
  {
   "cell_type": "code",
   "execution_count": 2,
   "metadata": {},
   "outputs": [
    {
     "data": {
      "text/plain": [
       "True"
      ]
     },
     "execution_count": 2,
     "metadata": {},
     "output_type": "execute_result"
    }
   ],
   "source": [
    "hash1 = sha256_hash_file(\"./data/text-report/case_1_input_1.docx\")\n",
    "hash2 = sha256_hash_file(\"./data/text-report/case_1_input_2.docx\")\n",
    "\n",
    "hash1 == hash2"
   ]
  },
  {
   "cell_type": "markdown",
   "metadata": {},
   "source": [
    "Идентичные файлы с разным форматированием"
   ]
  },
  {
   "cell_type": "markdown",
   "metadata": {},
   "source": [
    "Сравнение по хэшу одинаковых по содержанию, но разных по форматирированию файлов бесполезно."
   ]
  },
  {
   "cell_type": "code",
   "execution_count": 3,
   "metadata": {},
   "outputs": [
    {
     "data": {
      "text/plain": [
       "False"
      ]
     },
     "execution_count": 3,
     "metadata": {},
     "output_type": "execute_result"
    }
   ],
   "source": [
    "hash1 = sha256_hash_file(\"./data/text-report/case_2_input_1.docx\")\n",
    "hash2 = sha256_hash_file(\"./data/text-report/case_2_input_2.docx\")\n",
    "\n",
    "hash1 == hash2"
   ]
  },
  {
   "cell_type": "markdown",
   "metadata": {},
   "source": [
    "Попробуем вытащить из файла весь текст и сравнить его"
   ]
  },
  {
   "cell_type": "code",
   "execution_count": 4,
   "metadata": {},
   "outputs": [],
   "source": [
    "# code snippet from <https://github.com/ankushshah89/python-docx2txt/blob/master/docx2txt/docx2txt.py>\n",
    "\n",
    "import xml.etree.ElementTree as ET\n",
    "import zipfile\n",
    "import os\n",
    "import re\n",
    "from dataclasses import dataclass\n",
    "\n",
    "@dataclass\n",
    "class InDocImage:\n",
    "    fname: str\n",
    "    data: str\n",
    "\n",
    "class Docx2Txt:\n",
    "    _nsmap = {'w': 'http://schemas.openxmlformats.org/wordprocessingml/2006/main'}\n",
    "\n",
    "    def __init__(self, docx: any) -> None:\n",
    "        self._docx = docx\n",
    "\n",
    "        self._text = \"\"\n",
    "        self._images: list[InDocImage] = []\n",
    "\n",
    "        self._process()\n",
    "\n",
    "    def get_text(self) -> str:\n",
    "        return self._text\n",
    "\n",
    "    def get_images(self) -> list[InDocImage]:\n",
    "        return self._images\n",
    "\n",
    "    def _qn(self, tag):\n",
    "        \"\"\"\n",
    "        Stands for 'qualified name', a utility function to turn a namespace\n",
    "        prefixed tag name into a Clark-notation qualified tag name for lxml. For\n",
    "        example, ``qn('p:cSld')`` returns ``'{http://schemas.../main}cSld'``.\n",
    "        Source: https://github.com/python-openxml/python-docx/\n",
    "        \"\"\"\n",
    "        prefix, tagroot = tag.split(':')\n",
    "        uri = self._nsmap[prefix]\n",
    "        return '{{{}}}{}'.format(uri, tagroot)\n",
    "\n",
    "    def _xml2text(self, xml):\n",
    "        \"\"\"\n",
    "        A string representing the textual content of this run, with content\n",
    "        child elements like ``<w:tab/>`` translated to their Python\n",
    "        equivalent.\n",
    "        Adapted from: https://github.com/python-openxml/python-docx/\n",
    "        \"\"\"\n",
    "        text = u''\n",
    "        root = ET.fromstring(xml)\n",
    "        for child in root.iter():\n",
    "            if child.tag == self._qn('w:t'):\n",
    "                t_text = child.text\n",
    "                text += t_text if t_text is not None else ''\n",
    "            elif child.tag == self._qn('w:tab'):\n",
    "                text += '\\t'\n",
    "            elif child.tag in (self._qn('w:br'), self._qn('w:cr')):\n",
    "                text += '\\n'\n",
    "            elif child.tag == self._qn(\"w:p\"):\n",
    "                text += '\\n\\n'\n",
    "        return text\n",
    "\n",
    "\n",
    "    # TODO: extract other types of embedded files\n",
    "    # TODO: extract tables\n",
    "    # TODO: header and footer processing\n",
    "    def _process(\n",
    "            self,\n",
    "            add_header=False,\n",
    "            add_footer=False,\n",
    "    ):\n",
    "        text = u''\n",
    "\n",
    "        # unzip the docx in memory\n",
    "        with zipfile.ZipFile(self._docx) as zipf:\n",
    "            filelist = zipf.namelist()\n",
    "\n",
    "            if add_header:\n",
    "                # get header text\n",
    "                # there can be 3 header files in the zip\n",
    "                header_xmls = 'word/header[0-9]*.xml'\n",
    "                for fname in filelist:\n",
    "                    if re.match(header_xmls, fname):\n",
    "                        text += self._xml2text(zipf.read(fname))\n",
    "\n",
    "            # get main text\n",
    "            doc_xml = 'word/document.xml'\n",
    "            text += self._xml2text(zipf.read(doc_xml))\n",
    "\n",
    "            if add_footer:\n",
    "                # get footer text\n",
    "                # there can be 3 footer files in the zip\n",
    "                footer_xmls = 'word/footer[0-9]*.xml'\n",
    "                for fname in filelist:\n",
    "                    if re.match(footer_xmls, fname):\n",
    "                        print(zipf.read(fname))\n",
    "                        text += self._xml2text(zipf.read(fname))\n",
    "\n",
    "            self._text = text\n",
    "\n",
    "            for fname in filelist:\n",
    "                _, extension = os.path.splitext(fname)\n",
    "                if extension in [\".jpg\", \".jpeg\", \".png\", \".bmp\"]:\n",
    "                    self._images.append(InDocImage(**{\n",
    "                        \"fname\": os.path.basename(fname),\n",
    "                        \"data\": zipf.read(fname),   \n",
    "                    }))\n"
   ]
  },
  {
   "cell_type": "code",
   "execution_count": 5,
   "metadata": {},
   "outputs": [
    {
     "data": {
      "text/plain": [
       "True"
      ]
     },
     "execution_count": 5,
     "metadata": {},
     "output_type": "execute_result"
    }
   ],
   "source": [
    "text1 = Docx2Txt(\"./data/text-report/case_2_input_1.docx\").get_text()\n",
    "text2 = Docx2Txt(\"./data/text-report/case_2_input_2.docx\").get_text()\n",
    "\n",
    "hasher1 = hashlib.sha256()\n",
    "hasher1.update(text1.encode())\n",
    "hash1 = hasher1.hexdigest()\n",
    "\n",
    "hasher2 = hashlib.sha256()\n",
    "hasher2.update(text2.encode())\n",
    "hash2 = hasher1.hexdigest()\n",
    "\n",
    "hash1 == hash2"
   ]
  },
  {
   "cell_type": "markdown",
   "metadata": {},
   "source": [
    "1 файл целиком состоит из части текста взятого из файла 2"
   ]
  },
  {
   "cell_type": "markdown",
   "metadata": {},
   "source": [
    "Попробуем наивно использовать оператор `in` для проверки.\n",
    "\n",
    "- выключен парсинг футеров и хедеров, с их парсингов появляются (мета?) символы конца страницы, которые дают результат `False`"
   ]
  },
  {
   "cell_type": "code",
   "execution_count": 6,
   "metadata": {},
   "outputs": [
    {
     "data": {
      "text/plain": [
       "True"
      ]
     },
     "execution_count": 6,
     "metadata": {},
     "output_type": "execute_result"
    }
   ],
   "source": [
    "text1 = Docx2Txt(\"./data/text-report/case_3_input_1.docx\").get_text()\n",
    "text2 = Docx2Txt(\"./data/text-report/case_3_input_2.docx\").get_text()\n",
    "\n",
    "text1 in text2"
   ]
  },
  {
   "cell_type": "markdown",
   "metadata": {},
   "source": [
    "## Методы нахождения сходства между текстовыми документами\n",
    "\n",
    "\n",
    "Приведенные ниже методы требуется рассматривать при перестановках / перефразировании / изменении объема текста, что будет основной проблемой при сравнении документов."
   ]
  },
  {
   "cell_type": "markdown",
   "metadata": {},
   "source": [
    "### Чистка текста \n",
    "\n",
    "Любой используемый метод требует подготовки данных: удаления стоп-слов, лемматизация, стемматизация, удаление лишних символов и пунктуации.\n",
    "\n",
    "- <https://habr.com/ru/articles/738176/>, <https://github.com/rjrahul24/ai-with-python-series/blob/main/08.%20Natural%20Language%20Processing/Preprocessing%20Pipeline/NLP%20Preprocessing%20Pipeline%20.ipynb> - описание типичных методов чистки текста\n",
    "- <https://spacy.io/usage/processing-pipelines> - препроцессинг теста с помощью `spacy`"
   ]
  },
  {
   "cell_type": "code",
   "execution_count": 7,
   "metadata": {},
   "outputs": [
    {
     "name": "stdout",
     "output_type": "stream",
     "text": [
      "Requirement already satisfied: spacy in ./.venv/lib/python3.12/site-packages (3.8.2)\n",
      "Requirement already satisfied: spacy-legacy<3.1.0,>=3.0.11 in ./.venv/lib/python3.12/site-packages (from spacy) (3.0.12)\n",
      "Requirement already satisfied: spacy-loggers<2.0.0,>=1.0.0 in ./.venv/lib/python3.12/site-packages (from spacy) (1.0.5)\n",
      "Requirement already satisfied: murmurhash<1.1.0,>=0.28.0 in ./.venv/lib/python3.12/site-packages (from spacy) (1.0.10)\n",
      "Requirement already satisfied: cymem<2.1.0,>=2.0.2 in ./.venv/lib/python3.12/site-packages (from spacy) (2.0.8)\n",
      "Requirement already satisfied: preshed<3.1.0,>=3.0.2 in ./.venv/lib/python3.12/site-packages (from spacy) (3.0.9)\n",
      "Requirement already satisfied: thinc<8.4.0,>=8.3.0 in ./.venv/lib/python3.12/site-packages (from spacy) (8.3.2)\n",
      "Requirement already satisfied: wasabi<1.2.0,>=0.9.1 in ./.venv/lib/python3.12/site-packages (from spacy) (1.1.3)\n",
      "Requirement already satisfied: srsly<3.0.0,>=2.4.3 in ./.venv/lib/python3.12/site-packages (from spacy) (2.4.8)\n",
      "Requirement already satisfied: catalogue<2.1.0,>=2.0.6 in ./.venv/lib/python3.12/site-packages (from spacy) (2.0.10)\n",
      "Requirement already satisfied: weasel<0.5.0,>=0.1.0 in ./.venv/lib/python3.12/site-packages (from spacy) (0.4.1)\n",
      "Requirement already satisfied: typer<1.0.0,>=0.3.0 in ./.venv/lib/python3.12/site-packages (from spacy) (0.12.5)\n",
      "Requirement already satisfied: tqdm<5.0.0,>=4.38.0 in ./.venv/lib/python3.12/site-packages (from spacy) (4.66.5)\n",
      "Requirement already satisfied: requests<3.0.0,>=2.13.0 in ./.venv/lib/python3.12/site-packages (from spacy) (2.32.3)\n",
      "Requirement already satisfied: pydantic!=1.8,!=1.8.1,<3.0.0,>=1.7.4 in ./.venv/lib/python3.12/site-packages (from spacy) (2.9.2)\n",
      "Requirement already satisfied: jinja2 in ./.venv/lib/python3.12/site-packages (from spacy) (3.1.4)\n",
      "Requirement already satisfied: setuptools in ./.venv/lib/python3.12/site-packages (from spacy) (75.1.0)\n",
      "Requirement already satisfied: packaging>=20.0 in ./.venv/lib/python3.12/site-packages (from spacy) (24.1)\n",
      "Requirement already satisfied: langcodes<4.0.0,>=3.2.0 in ./.venv/lib/python3.12/site-packages (from spacy) (3.4.1)\n",
      "Requirement already satisfied: numpy>=1.19.0 in ./.venv/lib/python3.12/site-packages (from spacy) (2.0.2)\n",
      "Requirement already satisfied: language-data>=1.2 in ./.venv/lib/python3.12/site-packages (from langcodes<4.0.0,>=3.2.0->spacy) (1.2.0)\n",
      "Requirement already satisfied: annotated-types>=0.6.0 in ./.venv/lib/python3.12/site-packages (from pydantic!=1.8,!=1.8.1,<3.0.0,>=1.7.4->spacy) (0.7.0)\n",
      "Requirement already satisfied: pydantic-core==2.23.4 in ./.venv/lib/python3.12/site-packages (from pydantic!=1.8,!=1.8.1,<3.0.0,>=1.7.4->spacy) (2.23.4)\n",
      "Requirement already satisfied: typing-extensions>=4.6.1 in ./.venv/lib/python3.12/site-packages (from pydantic!=1.8,!=1.8.1,<3.0.0,>=1.7.4->spacy) (4.12.2)\n",
      "Requirement already satisfied: charset-normalizer<4,>=2 in ./.venv/lib/python3.12/site-packages (from requests<3.0.0,>=2.13.0->spacy) (3.3.2)\n",
      "Requirement already satisfied: idna<4,>=2.5 in ./.venv/lib/python3.12/site-packages (from requests<3.0.0,>=2.13.0->spacy) (3.10)\n",
      "Requirement already satisfied: urllib3<3,>=1.21.1 in ./.venv/lib/python3.12/site-packages (from requests<3.0.0,>=2.13.0->spacy) (2.2.3)\n",
      "Requirement already satisfied: certifi>=2017.4.17 in ./.venv/lib/python3.12/site-packages (from requests<3.0.0,>=2.13.0->spacy) (2024.8.30)\n",
      "Requirement already satisfied: blis<1.1.0,>=1.0.0 in ./.venv/lib/python3.12/site-packages (from thinc<8.4.0,>=8.3.0->spacy) (1.0.1)\n",
      "Requirement already satisfied: confection<1.0.0,>=0.0.1 in ./.venv/lib/python3.12/site-packages (from thinc<8.4.0,>=8.3.0->spacy) (0.1.5)\n",
      "Requirement already satisfied: click>=8.0.0 in ./.venv/lib/python3.12/site-packages (from typer<1.0.0,>=0.3.0->spacy) (8.1.7)\n",
      "Requirement already satisfied: shellingham>=1.3.0 in ./.venv/lib/python3.12/site-packages (from typer<1.0.0,>=0.3.0->spacy) (1.5.4)\n",
      "Requirement already satisfied: rich>=10.11.0 in ./.venv/lib/python3.12/site-packages (from typer<1.0.0,>=0.3.0->spacy) (13.9.2)\n",
      "Requirement already satisfied: cloudpathlib<1.0.0,>=0.7.0 in ./.venv/lib/python3.12/site-packages (from weasel<0.5.0,>=0.1.0->spacy) (0.19.0)\n",
      "Requirement already satisfied: smart-open<8.0.0,>=5.2.1 in ./.venv/lib/python3.12/site-packages (from weasel<0.5.0,>=0.1.0->spacy) (7.0.5)\n",
      "Requirement already satisfied: MarkupSafe>=2.0 in ./.venv/lib/python3.12/site-packages (from jinja2->spacy) (2.1.5)\n",
      "Requirement already satisfied: marisa-trie>=0.7.7 in ./.venv/lib/python3.12/site-packages (from language-data>=1.2->langcodes<4.0.0,>=3.2.0->spacy) (1.2.0)\n",
      "Requirement already satisfied: markdown-it-py>=2.2.0 in ./.venv/lib/python3.12/site-packages (from rich>=10.11.0->typer<1.0.0,>=0.3.0->spacy) (3.0.0)\n",
      "Requirement already satisfied: pygments<3.0.0,>=2.13.0 in ./.venv/lib/python3.12/site-packages (from rich>=10.11.0->typer<1.0.0,>=0.3.0->spacy) (2.18.0)\n",
      "Requirement already satisfied: wrapt in ./.venv/lib/python3.12/site-packages (from smart-open<8.0.0,>=5.2.1->weasel<0.5.0,>=0.1.0->spacy) (1.16.0)\n",
      "Requirement already satisfied: mdurl~=0.1 in ./.venv/lib/python3.12/site-packages (from markdown-it-py>=2.2.0->rich>=10.11.0->typer<1.0.0,>=0.3.0->spacy) (0.1.2)\n",
      "Note: you may need to restart the kernel to use updated packages.\n",
      "\u001b[38;5;3m⚠ As of spaCy v3.0, shortcuts like 'en' are deprecated. Please use the\n",
      "full pipeline package name 'en_core_web_sm' instead.\u001b[0m\n",
      "Collecting en-core-web-sm==3.8.0\n",
      "  Downloading https://github.com/explosion/spacy-models/releases/download/en_core_web_sm-3.8.0/en_core_web_sm-3.8.0-py3-none-any.whl (12.8 MB)\n",
      "\u001b[2K     \u001b[90m━━━━━━━━━━━━━━━━━━━━━━━━━━━━━━━━━━━━━━━━\u001b[0m \u001b[32m12.8/12.8 MB\u001b[0m \u001b[31m5.8 MB/s\u001b[0m eta \u001b[36m0:00:00\u001b[0m00:01\u001b[0m00:01\u001b[0m\n",
      "\u001b[?25hRequirement already satisfied: en_core_web_sm in ./.venv/lib/python3.12/site-packages (3.8.0)\n",
      "\u001b[38;5;2m✔ Download and installation successful\u001b[0m\n",
      "You can now load the package via spacy.load('en_core_web_sm')\n"
     ]
    }
   ],
   "source": [
    "%pip install spacy\n",
    "\n",
    "import sys\n",
    "!{sys.executable} -m spacy download en en_core_web_sm "
   ]
  },
  {
   "cell_type": "code",
   "execution_count": 8,
   "metadata": {},
   "outputs": [],
   "source": [
    "import spacy"
   ]
  },
  {
   "cell_type": "code",
   "execution_count": 9,
   "metadata": {},
   "outputs": [
    {
     "name": "stderr",
     "output_type": "stream",
     "text": [
      "<>:6: SyntaxWarning: invalid escape sequence '\\s'\n",
      "<>:6: SyntaxWarning: invalid escape sequence '\\s'\n",
      "/var/folders/8h/64vbk3hj78g_dnckx03z4v9r0000gn/T/ipykernel_59780/1338797335.py:6: SyntaxWarning: invalid escape sequence '\\s'\n",
      "  text = re.sub('\\s+', ' ', text)\n"
     ]
    }
   ],
   "source": [
    "def spacy_normalize(text: str) -> str:\n",
    "    nlp = spacy.load(\"en_core_web_sm\", disable=['parser', 'tagger', 'ner'])\n",
    "    stops = nlp.Defaults.stop_words\n",
    "\n",
    "    text = re.sub(r'[^\\w\\s.]', '', text)\n",
    "    text = re.sub('\\s+', ' ', text)\n",
    "\n",
    "    text = text.lower()\n",
    "\n",
    "    text = nlp(text)\n",
    "\n",
    "    lemmatized = list()\n",
    "\n",
    "    for word in text:\n",
    "        lemma = word.lemma_.strip()\n",
    "        if lemma and lemma not in stops:\n",
    "            lemmatized.append(lemma)\n",
    "               \n",
    "    return \" \".join(lemmatized)"
   ]
  },
  {
   "cell_type": "markdown",
   "metadata": {},
   "source": [
    "### Традиционные методы нахождения сходства между документами"
   ]
  },
  {
   "cell_type": "markdown",
   "metadata": {},
   "source": [
    "Сходство Жаккара. <https://ru.wikipedia.org/wiki/Коэффициент_Жаккара>\n",
    "\n",
    "Сходство считаеся как отношение общего множества термов из текстов 1 и 2 к сумме уникальных термов в каждом тексте.\n",
    "\n",
    "${K_{J}={\\frac {c}{a+b-c}}}$\n",
    "\n",
    "- $a$ - термы текста 1\n",
    "- $b$ - термы текста 2\n",
    "- $c$ - пересечение множеств термов документов 1 и 2\n"
   ]
  },
  {
   "cell_type": "code",
   "execution_count": 10,
   "metadata": {},
   "outputs": [],
   "source": [
    "def jaccard_similarity(a: set, b: set) -> float:\n",
    "    if 0 == len(a) == len(b):\n",
    "        return 1\n",
    "\n",
    "    return (len(a.intersection(b))) / (len(a.union(b)))"
   ]
  },
  {
   "cell_type": "code",
   "execution_count": 11,
   "metadata": {},
   "outputs": [
    {
     "name": "stderr",
     "output_type": "stream",
     "text": [
      "/Users/zuzuka28/Documents/pp/simrep/research/.venv/lib/python3.12/site-packages/spacy/pipeline/lemmatizer.py:211: UserWarning: [W108] The rule-based lemmatizer did not find POS annotation for one or more tokens. Check that your pipeline includes components that assign token.pos, typically 'tagger'+'attribute_ruler' or 'morphologizer'.\n",
      "  warnings.warn(Warnings.W108)\n"
     ]
    },
    {
     "data": {
      "text/plain": [
       "0.5"
      ]
     },
     "execution_count": 11,
     "metadata": {},
     "output_type": "execute_result"
    }
   ],
   "source": [
    "text1_normalized = spacy_normalize(text1)\n",
    "text2_normalized = spacy_normalize(text2)\n",
    "\n",
    "jaccard_similarity(\n",
    "    set(text1_normalized.split()),\n",
    "    set(text2_normalized.split()),\n",
    ")"
   ]
  },
  {
   "cell_type": "markdown",
   "metadata": {},
   "source": [
    "Алгоритм шинглов. w-shingling <https://ru.wikipedia.org/wiki/Алгоритм_шинглов>\n",
    "\n",
    "Алгоритм шинглов представляет собой классический метод для проверки текста на плагиат. \n",
    "\n",
    "- текст канонизируется ( чистка от предлогов, стематизация, лемматизация )\n",
    "- текст разбивается на шинглы, наборы из N последовательных термов\n",
    "- считается сходство жаккара по шинглам"
   ]
  },
  {
   "cell_type": "code",
   "execution_count": 12,
   "metadata": {},
   "outputs": [],
   "source": [
    "# разбиение на шинглы\n",
    "def w_shingle(target: list, w: int = 1) -> list[set]:\n",
    "    num_words = len(target)\n",
    "\n",
    "    if w > num_words or w == 0:\n",
    "        raise Exception('invalid shingle number')\n",
    "\n",
    "    return [\" \".join(target[i:i + w]) for i in range(len(target) - w + 1)]\n"
   ]
  },
  {
   "cell_type": "code",
   "execution_count": 13,
   "metadata": {},
   "outputs": [
    {
     "data": {
      "text/plain": [
       "0.3333333333333333"
      ]
     },
     "execution_count": 13,
     "metadata": {},
     "output_type": "execute_result"
    }
   ],
   "source": [
    "text1_normalized = spacy_normalize(text1)\n",
    "text2_normalized = spacy_normalize(text2)\n",
    "\n",
    "shingle_size = 2\n",
    "\n",
    "jaccard_similarity(\n",
    "    set(w_shingle(text1_normalized.split(), shingle_size)),\n",
    "    set(w_shingle(text2_normalized.split(), shingle_size)),\n",
    ")"
   ]
  },
  {
   "cell_type": "markdown",
   "metadata": {},
   "source": [
    "Использование групп слов или групп символов (n-gram) - довольно распространенный метод, который можно использовать совместно с другими моделями"
   ]
  },
  {
   "cell_type": "markdown",
   "metadata": {},
   "source": [
    "### Векторное сходство документов\n",
    "\n",
    "Современные подходы нахождения сходства документов предлагают рассматривать документы как векторы в некотором векторном пространстве и сравнивать для нахождения сходства.\n",
    "\n",
    "В качестве метрики близости векторов ( сходства ) используется косинусное расстояние между этими векторами.\n",
    "\n",
    "Для приведения предложений в векторную форму используются нижеперечисленные методы ( и другие ). "
   ]
  },
  {
   "cell_type": "markdown",
   "metadata": {},
   "source": [
    "Bag of Words (BoW) - модель представления документов как набора из отношений { терм : частотность использования терма  в документе }.  \n",
    "\n",
    "BoW используется для задач классификации, используя частотность использования в качестве метрики для классификации.\n",
    "\n",
    "Можно использовать BoW как способ задания векторов для предложений. \n",
    "\n",
    "Нахождение какого-либо сходства между предложениями простого BoW может быть недостаточно, поскольку BoW упускает семантику и оценку важности слов. \n",
    "\n",
    "Ниже приведен пример использования BoW и нахождения косинусной схожести, в результате получается квадратная матрица с рассчетом схожести входных параметров.\n",
    "\n",
    "#TODO: исследовать итеративное расширение мешка слов без переучивания на всем наборе данных"
   ]
  },
  {
   "cell_type": "code",
   "execution_count": 14,
   "metadata": {},
   "outputs": [
    {
     "name": "stdout",
     "output_type": "stream",
     "text": [
      "Collecting scikit-learn\n",
      "  Using cached scikit_learn-1.5.2-cp312-cp312-macosx_12_0_arm64.whl.metadata (13 kB)\n",
      "Requirement already satisfied: numpy in ./.venv/lib/python3.12/site-packages (2.0.2)\n",
      "Collecting pandas\n",
      "  Downloading pandas-2.2.3-cp312-cp312-macosx_11_0_arm64.whl.metadata (89 kB)\n",
      "Collecting scipy>=1.6.0 (from scikit-learn)\n",
      "  Using cached scipy-1.14.1-cp312-cp312-macosx_14_0_arm64.whl.metadata (60 kB)\n",
      "Collecting joblib>=1.2.0 (from scikit-learn)\n",
      "  Using cached joblib-1.4.2-py3-none-any.whl.metadata (5.4 kB)\n",
      "Collecting threadpoolctl>=3.1.0 (from scikit-learn)\n",
      "  Using cached threadpoolctl-3.5.0-py3-none-any.whl.metadata (13 kB)\n",
      "Requirement already satisfied: python-dateutil>=2.8.2 in ./.venv/lib/python3.12/site-packages (from pandas) (2.9.0.post0)\n",
      "Collecting pytz>=2020.1 (from pandas)\n",
      "  Using cached pytz-2024.2-py2.py3-none-any.whl.metadata (22 kB)\n",
      "Collecting tzdata>=2022.7 (from pandas)\n",
      "  Using cached tzdata-2024.2-py2.py3-none-any.whl.metadata (1.4 kB)\n",
      "Requirement already satisfied: six>=1.5 in ./.venv/lib/python3.12/site-packages (from python-dateutil>=2.8.2->pandas) (1.16.0)\n",
      "Using cached scikit_learn-1.5.2-cp312-cp312-macosx_12_0_arm64.whl (11.0 MB)\n",
      "Downloading pandas-2.2.3-cp312-cp312-macosx_11_0_arm64.whl (11.4 MB)\n",
      "\u001b[2K   \u001b[90m━━━━━━━━━━━━━━━━━━━━━━━━━━━━━━━━━━━━━━━━\u001b[0m \u001b[32m11.4/11.4 MB\u001b[0m \u001b[31m6.6 MB/s\u001b[0m eta \u001b[36m0:00:00\u001b[0ma \u001b[36m0:00:01\u001b[0m\n",
      "\u001b[?25hUsing cached joblib-1.4.2-py3-none-any.whl (301 kB)\n",
      "Using cached pytz-2024.2-py2.py3-none-any.whl (508 kB)\n",
      "Using cached scipy-1.14.1-cp312-cp312-macosx_14_0_arm64.whl (23.1 MB)\n",
      "Using cached threadpoolctl-3.5.0-py3-none-any.whl (18 kB)\n",
      "Using cached tzdata-2024.2-py2.py3-none-any.whl (346 kB)\n",
      "Installing collected packages: pytz, tzdata, threadpoolctl, scipy, joblib, scikit-learn, pandas\n",
      "Successfully installed joblib-1.4.2 pandas-2.2.3 pytz-2024.2 scikit-learn-1.5.2 scipy-1.14.1 threadpoolctl-3.5.0 tzdata-2024.2\n",
      "Note: you may need to restart the kernel to use updated packages.\n"
     ]
    }
   ],
   "source": [
    "%pip install scikit-learn numpy pandas"
   ]
  },
  {
   "cell_type": "code",
   "execution_count": 15,
   "metadata": {},
   "outputs": [],
   "source": [
    "import numpy as np\n",
    "import pandas as pd\n",
    "from sklearn.metrics.pairwise import cosine_similarity"
   ]
  },
  {
   "cell_type": "code",
   "execution_count": 16,
   "metadata": {},
   "outputs": [
    {
     "name": "stderr",
     "output_type": "stream",
     "text": [
      "/Users/zuzuka28/Documents/pp/simrep/research/.venv/lib/python3.12/site-packages/spacy/pipeline/lemmatizer.py:211: UserWarning: [W108] The rule-based lemmatizer did not find POS annotation for one or more tokens. Check that your pipeline includes components that assign token.pos, typically 'tagger'+'attribute_ruler' or 'morphologizer'.\n",
      "  warnings.warn(Warnings.W108)\n"
     ]
    },
    {
     "data": {
      "text/plain": [
       "array([[1.        , 0.70710678],\n",
       "       [0.70710678, 1.        ]])"
      ]
     },
     "execution_count": 16,
     "metadata": {},
     "output_type": "execute_result"
    }
   ],
   "source": [
    "from sklearn.feature_extraction.text import CountVectorizer # BoW\n",
    "\n",
    "text1_normalized = spacy_normalize(text1)\n",
    "text2_normalized = spacy_normalize(text2)\n",
    "\n",
    "texts = [text1_normalized, text2_normalized]\n",
    "\n",
    "vectorizer = CountVectorizer()\n",
    "vectorizer.fit(texts)\n",
    "\n",
    "vectorizer.get_feature_names_out()\n",
    "\n",
    "bow = vectorizer.transform(texts)\n",
    "bow = bow.toarray()\n",
    "\n",
    "df = pd.DataFrame(\n",
    "   bow,\n",
    "   columns=vectorizer.get_feature_names_out(),\n",
    ")\n",
    "\n",
    "cosine_similarity(df, df)\n"
   ]
  },
  {
   "cell_type": "markdown",
   "metadata": {},
   "source": [
    "Term Frequency-Inverse Document Frequency (TF-IDF) <https://en.wikipedia.org/wiki/Tf–idf> - статистическая метрика для измерения важности слов в документах (тексте).\n",
    "\n",
    "TF-IDF своего рода BoW с поправкой на важность терма в документах. \n",
    "\n",
    "$TFIDF(t, d) = TF(t, d) * IDF(t)$\n",
    "\n",
    "Term Frequency - частота употребления терма в конкретном документе, изменяет значимость слова в контексте документа.\n",
    "\n",
    "$TF(t, d) = \\frac{f(t, d)}{N}$\n",
    "\n",
    "- $f(t,d)$ - количество использований терма t в документе\n",
    "- $N$ - количество термов в документе\n",
    "\n",
    "Есть и другие способы считать коэффициент TF, нормализуя его (см. вики)\n",
    "\n",
    "Inverse Document Frequency - частота использования терма во всех документах. чем чаще слово употребляется во всех документах, тем меньше у него значимость.\n",
    "\n",
    "$IDF(t, D) = \\log \\left( \\frac{N}{df(t)} \\right)$\n",
    "\n",
    "- $N$ - количество документов\n",
    "- $df(t)$ - количество документов, в которых используется терм\n",
    "\n",
    "Есть и другие способы считать коэффициент IDF, нормализуя его (см. вики)\n",
    "\n",
    "TF-IDF для предложения представляет из себя вектор оценок, состоящий из рассчитанных значений TF-IDF для каждого терма.\n",
    "\n",
    "Поскольку оба коэффициенты зависят от входных параметров, то получившиеся векторы можно нормализовать для устранения зависимости с размером входных параметров.\n"
   ]
  },
  {
   "cell_type": "code",
   "execution_count": 17,
   "metadata": {},
   "outputs": [
    {
     "name": "stderr",
     "output_type": "stream",
     "text": [
      "/Users/zuzuka28/Documents/pp/simrep/research/.venv/lib/python3.12/site-packages/spacy/pipeline/lemmatizer.py:211: UserWarning: [W108] The rule-based lemmatizer did not find POS annotation for one or more tokens. Check that your pipeline includes components that assign token.pos, typically 'tagger'+'attribute_ruler' or 'morphologizer'.\n",
      "  warnings.warn(Warnings.W108)\n"
     ]
    },
    {
     "data": {
      "text/plain": [
       "array([[1.        , 0.57973867],\n",
       "       [0.57973867, 1.        ]])"
      ]
     },
     "execution_count": 17,
     "metadata": {},
     "output_type": "execute_result"
    }
   ],
   "source": [
    "from sklearn.feature_extraction.text import TfidfVectorizer # TF-IDF\n",
    "\n",
    "text1_normalized = spacy_normalize(text1)\n",
    "text2_normalized = spacy_normalize(text2)\n",
    "\n",
    "texts = [text1_normalized, text2_normalized]\n",
    "\n",
    "vectorizer = TfidfVectorizer()\n",
    "vectorizer.fit(texts)\n",
    "\n",
    "vectorizer.get_feature_names_out()\n",
    "\n",
    "bow = vectorizer.transform(texts)\n",
    "bow = bow.toarray()\n",
    "\n",
    "df = pd.DataFrame(\n",
    "   bow,\n",
    "   columns=vectorizer.get_feature_names_out(),\n",
    ")\n",
    "\n",
    "cosine_similarity(df, df)"
   ]
  },
  {
   "cell_type": "markdown",
   "metadata": {},
   "source": [
    "Okapi BM25  - <https://ru.wikipedia.org/wiki/Okapi_BM25>\n",
    "\n",
    "Okapi BM25 - метрика на основе TD-IDF с поправками результата на основе длины документа.\n",
    "\n",
    "Более современный "
   ]
  },
  {
   "cell_type": "markdown",
   "metadata": {},
   "source": [
    "word2vec <https://en.wikipedia.org/wiki/Word2vec>\n",
    "\n",
    "word2vec - нейронка, генерирующая репрезентацию документов в векторах с учетом рядом стоящих слов.\n",
    "один раз натренировали нейронку для того, чтобы она выдавала качественные репрезентации текста в виде векторов, далее используем результат для других прикладных задач, требующих векторное представление текста.\n",
    "\n",
    "вариации и развитие идеи\n",
    "\n",
    "- sentence2vec\n",
    "- doc2vec"
   ]
  },
  {
   "cell_type": "markdown",
   "metadata": {},
   "source": [
    "BERT <https://en.wikipedia.org/wiki/BERT_(language_model)>\n",
    "\n",
    "BERT - трансформер нейронка с кодировщиком, ее можно использовать для генерации векторной репрезентации текста.\n",
    "BERT учитывает расположение и семантику слов в тексте.\n",
    "\n",
    "<https://gist.github.com/albahnsen/b02d2183c93067e3f248a428430c970e> - про то, как достать sentence embeddings из BERT."
   ]
  },
  {
   "cell_type": "markdown",
   "metadata": {},
   "source": [
    "SBERT - более узкоспециализированная модель, предназначенная именно для поиска схожих документов"
   ]
  },
  {
   "cell_type": "code",
   "execution_count": 18,
   "metadata": {},
   "outputs": [
    {
     "name": "stdout",
     "output_type": "stream",
     "text": [
      "Collecting sentence_transformers\n",
      "  Using cached sentence_transformers-3.1.1-py3-none-any.whl.metadata (10 kB)\n",
      "Collecting transformers<5.0.0,>=4.38.0 (from sentence_transformers)\n",
      "  Using cached transformers-4.45.1-py3-none-any.whl.metadata (44 kB)\n",
      "Requirement already satisfied: tqdm in ./.venv/lib/python3.12/site-packages (from sentence_transformers) (4.66.5)\n",
      "Collecting torch>=1.11.0 (from sentence_transformers)\n",
      "  Using cached torch-2.4.1-cp312-none-macosx_11_0_arm64.whl.metadata (26 kB)\n",
      "Requirement already satisfied: scikit-learn in ./.venv/lib/python3.12/site-packages (from sentence_transformers) (1.5.2)\n",
      "Requirement already satisfied: scipy in ./.venv/lib/python3.12/site-packages (from sentence_transformers) (1.14.1)\n",
      "Collecting huggingface-hub>=0.19.3 (from sentence_transformers)\n",
      "  Using cached huggingface_hub-0.25.1-py3-none-any.whl.metadata (13 kB)\n",
      "Collecting Pillow (from sentence_transformers)\n",
      "  Using cached pillow-10.4.0-cp312-cp312-macosx_11_0_arm64.whl.metadata (9.2 kB)\n",
      "Collecting filelock (from huggingface-hub>=0.19.3->sentence_transformers)\n",
      "  Using cached filelock-3.16.1-py3-none-any.whl.metadata (2.9 kB)\n",
      "Collecting fsspec>=2023.5.0 (from huggingface-hub>=0.19.3->sentence_transformers)\n",
      "  Using cached fsspec-2024.9.0-py3-none-any.whl.metadata (11 kB)\n",
      "Requirement already satisfied: packaging>=20.9 in ./.venv/lib/python3.12/site-packages (from huggingface-hub>=0.19.3->sentence_transformers) (24.1)\n",
      "Collecting pyyaml>=5.1 (from huggingface-hub>=0.19.3->sentence_transformers)\n",
      "  Using cached PyYAML-6.0.2-cp312-cp312-macosx_11_0_arm64.whl.metadata (2.1 kB)\n",
      "Requirement already satisfied: requests in ./.venv/lib/python3.12/site-packages (from huggingface-hub>=0.19.3->sentence_transformers) (2.32.3)\n",
      "Requirement already satisfied: typing-extensions>=3.7.4.3 in ./.venv/lib/python3.12/site-packages (from huggingface-hub>=0.19.3->sentence_transformers) (4.12.2)\n",
      "Collecting sympy (from torch>=1.11.0->sentence_transformers)\n",
      "  Using cached sympy-1.13.3-py3-none-any.whl.metadata (12 kB)\n",
      "Collecting networkx (from torch>=1.11.0->sentence_transformers)\n",
      "  Using cached networkx-3.3-py3-none-any.whl.metadata (5.1 kB)\n",
      "Requirement already satisfied: jinja2 in ./.venv/lib/python3.12/site-packages (from torch>=1.11.0->sentence_transformers) (3.1.4)\n",
      "Requirement already satisfied: setuptools in ./.venv/lib/python3.12/site-packages (from torch>=1.11.0->sentence_transformers) (75.1.0)\n",
      "Requirement already satisfied: numpy>=1.17 in ./.venv/lib/python3.12/site-packages (from transformers<5.0.0,>=4.38.0->sentence_transformers) (2.0.2)\n",
      "Collecting regex!=2019.12.17 (from transformers<5.0.0,>=4.38.0->sentence_transformers)\n",
      "  Using cached regex-2024.9.11-cp312-cp312-macosx_11_0_arm64.whl.metadata (40 kB)\n",
      "Collecting safetensors>=0.4.1 (from transformers<5.0.0,>=4.38.0->sentence_transformers)\n",
      "  Using cached safetensors-0.4.5-cp312-cp312-macosx_11_0_arm64.whl.metadata (3.8 kB)\n",
      "Collecting tokenizers<0.21,>=0.20 (from transformers<5.0.0,>=4.38.0->sentence_transformers)\n",
      "  Using cached tokenizers-0.20.0-cp312-cp312-macosx_11_0_arm64.whl.metadata (6.7 kB)\n",
      "Requirement already satisfied: joblib>=1.2.0 in ./.venv/lib/python3.12/site-packages (from scikit-learn->sentence_transformers) (1.4.2)\n",
      "Requirement already satisfied: threadpoolctl>=3.1.0 in ./.venv/lib/python3.12/site-packages (from scikit-learn->sentence_transformers) (3.5.0)\n",
      "Requirement already satisfied: MarkupSafe>=2.0 in ./.venv/lib/python3.12/site-packages (from jinja2->torch>=1.11.0->sentence_transformers) (2.1.5)\n",
      "Requirement already satisfied: charset-normalizer<4,>=2 in ./.venv/lib/python3.12/site-packages (from requests->huggingface-hub>=0.19.3->sentence_transformers) (3.3.2)\n",
      "Requirement already satisfied: idna<4,>=2.5 in ./.venv/lib/python3.12/site-packages (from requests->huggingface-hub>=0.19.3->sentence_transformers) (3.10)\n",
      "Requirement already satisfied: urllib3<3,>=1.21.1 in ./.venv/lib/python3.12/site-packages (from requests->huggingface-hub>=0.19.3->sentence_transformers) (2.2.3)\n",
      "Requirement already satisfied: certifi>=2017.4.17 in ./.venv/lib/python3.12/site-packages (from requests->huggingface-hub>=0.19.3->sentence_transformers) (2024.8.30)\n",
      "Collecting mpmath<1.4,>=1.1.0 (from sympy->torch>=1.11.0->sentence_transformers)\n",
      "  Using cached mpmath-1.3.0-py3-none-any.whl.metadata (8.6 kB)\n",
      "Using cached sentence_transformers-3.1.1-py3-none-any.whl (245 kB)\n",
      "Using cached huggingface_hub-0.25.1-py3-none-any.whl (436 kB)\n",
      "Using cached torch-2.4.1-cp312-none-macosx_11_0_arm64.whl (62.1 MB)\n",
      "Using cached transformers-4.45.1-py3-none-any.whl (9.9 MB)\n",
      "Using cached pillow-10.4.0-cp312-cp312-macosx_11_0_arm64.whl (3.4 MB)\n",
      "Using cached fsspec-2024.9.0-py3-none-any.whl (179 kB)\n",
      "Using cached PyYAML-6.0.2-cp312-cp312-macosx_11_0_arm64.whl (173 kB)\n",
      "Using cached regex-2024.9.11-cp312-cp312-macosx_11_0_arm64.whl (284 kB)\n",
      "Using cached safetensors-0.4.5-cp312-cp312-macosx_11_0_arm64.whl (381 kB)\n",
      "Using cached tokenizers-0.20.0-cp312-cp312-macosx_11_0_arm64.whl (2.5 MB)\n",
      "Using cached filelock-3.16.1-py3-none-any.whl (16 kB)\n",
      "Using cached networkx-3.3-py3-none-any.whl (1.7 MB)\n",
      "Using cached sympy-1.13.3-py3-none-any.whl (6.2 MB)\n",
      "Using cached mpmath-1.3.0-py3-none-any.whl (536 kB)\n",
      "Installing collected packages: mpmath, sympy, safetensors, regex, pyyaml, Pillow, networkx, fsspec, filelock, torch, huggingface-hub, tokenizers, transformers, sentence_transformers\n",
      "Successfully installed Pillow-10.4.0 filelock-3.16.1 fsspec-2024.9.0 huggingface-hub-0.25.1 mpmath-1.3.0 networkx-3.3 pyyaml-6.0.2 regex-2024.9.11 safetensors-0.4.5 sentence_transformers-3.1.1 sympy-1.13.3 tokenizers-0.20.0 torch-2.4.1 transformers-4.45.1\n",
      "Note: you may need to restart the kernel to use updated packages.\n"
     ]
    }
   ],
   "source": [
    "%pip install sentence_transformers"
   ]
  },
  {
   "cell_type": "code",
   "execution_count": 19,
   "metadata": {},
   "outputs": [
    {
     "name": "stderr",
     "output_type": "stream",
     "text": [
      "/Users/zuzuka28/Documents/pp/simrep/research/.venv/lib/python3.12/site-packages/sentence_transformers/cross_encoder/CrossEncoder.py:13: TqdmWarning: IProgress not found. Please update jupyter and ipywidgets. See https://ipywidgets.readthedocs.io/en/stable/user_install.html\n",
      "  from tqdm.autonotebook import tqdm, trange\n",
      "/Users/zuzuka28/Documents/pp/simrep/research/.venv/lib/python3.12/site-packages/transformers/tokenization_utils_base.py:1617: FutureWarning: `clean_up_tokenization_spaces` was not set. It will be set to `True` by default. This behavior will be deprecated in transformers v4.45, and will be then set to `False` by default. For more details check this issue: https://github.com/huggingface/transformers/issues/31884\n",
      "  warnings.warn(\n"
     ]
    },
    {
     "data": {
      "text/plain": [
       "tensor([[1.0000, 0.7684],\n",
       "        [0.7684, 1.0000]])"
      ]
     },
     "execution_count": 19,
     "metadata": {},
     "output_type": "execute_result"
    }
   ],
   "source": [
    "from sentence_transformers import SentenceTransformer\n",
    "\n",
    "model = SentenceTransformer(\"all-mpnet-base-v2\")\n",
    "embeddings = model.encode([\n",
    "    text1,\n",
    "    text2\n",
    "])\n",
    "\n",
    "similarities = model.similarity(embeddings, embeddings)\n",
    "\n",
    "similarities"
   ]
  },
  {
   "cell_type": "markdown",
   "metadata": {},
   "source": [
    "## Методы нахождения сходства между документами из изображений"
   ]
  },
  {
   "cell_type": "markdown",
   "metadata": {},
   "source": [
    "тест 1.1. идентичные файлы"
   ]
  },
  {
   "cell_type": "code",
   "execution_count": 20,
   "metadata": {},
   "outputs": [
    {
     "data": {
      "text/plain": [
       "True"
      ]
     },
     "execution_count": 20,
     "metadata": {},
     "output_type": "execute_result"
    }
   ],
   "source": [
    "images1 = Docx2Txt(\"./data/image-report/case_1_input_1.docx\").get_images()\n",
    "images2 = Docx2Txt(\"./data/image-report/case_1_input_2.docx\").get_images()\n",
    "\n",
    "images1 == images2"
   ]
  },
  {
   "cell_type": "markdown",
   "metadata": {},
   "source": [
    "тест 1.2. файлы с разным форматированием и измененным размером изображений"
   ]
  },
  {
   "cell_type": "code",
   "execution_count": 21,
   "metadata": {},
   "outputs": [
    {
     "data": {
      "text/plain": [
       "False"
      ]
     },
     "execution_count": 21,
     "metadata": {},
     "output_type": "execute_result"
    }
   ],
   "source": [
    "images1 = Docx2Txt(\"./data/image-report/case_2_input_1.docx\").get_images()\n",
    "images2 = Docx2Txt(\"./data/image-report/case_2_input_2.docx\").get_images()\n",
    "\n",
    "hasher1 = hashlib.sha256()\n",
    "hasher1.update(images1[0].data)\n",
    "hash1 = hasher1.hexdigest()\n",
    "\n",
    "\n",
    "hasher2 = hashlib.sha256()\n",
    "hasher2.update(images2[0].data)\n",
    "hash2 = hasher2.hexdigest()\n",
    "\n",
    "hash1 == hash2"
   ]
  },
  {
   "cell_type": "markdown",
   "metadata": {},
   "source": [
    "Перцептуальные хэши <https://en.wikipedia.org/wiki/Perceptual_hashing> и <https://en.wikipedia.org/wiki/Locality-sensitive_hashing> \n",
    "\n",
    "Перцептуальные хэши - алгоритм для \"хэширования\" изображения на основе набора признаков. Это не криптографические хэши, а скорее способ для фингерпринта (снятия образа данных).\n",
    "\n",
    "Перцептуальные хэши можно сравнивать как напрямую, так и использовать для нахождения Расстояния Хэмминга между ними."
   ]
  },
  {
   "cell_type": "code",
   "execution_count": 22,
   "metadata": {},
   "outputs": [
    {
     "name": "stderr",
     "output_type": "stream",
     "text": [
      "huggingface/tokenizers: The current process just got forked, after parallelism has already been used. Disabling parallelism to avoid deadlocks...\n",
      "To disable this warning, you can either:\n",
      "\t- Avoid using `tokenizers` before the fork if possible\n",
      "\t- Explicitly set the environment variable TOKENIZERS_PARALLELISM=(true | false)\n"
     ]
    },
    {
     "name": "stdout",
     "output_type": "stream",
     "text": [
      "Collecting imagehash\n",
      "  Using cached ImageHash-4.3.1-py2.py3-none-any.whl.metadata (8.0 kB)\n",
      "Requirement already satisfied: pillow in ./.venv/lib/python3.12/site-packages (10.4.0)\n",
      "Collecting PyWavelets (from imagehash)\n",
      "  Using cached pywavelets-1.7.0-cp312-cp312-macosx_11_0_arm64.whl.metadata (9.0 kB)\n",
      "Requirement already satisfied: numpy in ./.venv/lib/python3.12/site-packages (from imagehash) (2.0.2)\n",
      "Requirement already satisfied: scipy in ./.venv/lib/python3.12/site-packages (from imagehash) (1.14.1)\n",
      "Using cached ImageHash-4.3.1-py2.py3-none-any.whl (296 kB)\n",
      "Using cached pywavelets-1.7.0-cp312-cp312-macosx_11_0_arm64.whl (4.3 MB)\n",
      "Installing collected packages: PyWavelets, imagehash\n",
      "Successfully installed PyWavelets-1.7.0 imagehash-4.3.1\n",
      "Note: you may need to restart the kernel to use updated packages.\n"
     ]
    }
   ],
   "source": [
    "%pip install imagehash pillow"
   ]
  },
  {
   "cell_type": "code",
   "execution_count": 23,
   "metadata": {},
   "outputs": [],
   "source": [
    "import imagehash\n",
    "import io\n",
    "from PIL import Image"
   ]
  },
  {
   "cell_type": "code",
   "execution_count": 24,
   "metadata": {},
   "outputs": [
    {
     "name": "stdout",
     "output_type": "stream",
     "text": [
      "        is eq False,        is eq with threshold True,        hamming dist 2,        hashlen 64\n",
      "        is eq False,        is eq with threshold True,        hamming dist 1,        hashlen 64\n",
      "        is eq True,        is eq with threshold True,        hamming dist 0,        hashlen 64\n",
      "        is eq False,        is eq with threshold True,        hamming dist 3,        hashlen 64\n",
      "        is eq False,        is eq with threshold True,        hamming dist 1,        hashlen 64\n"
     ]
    }
   ],
   "source": [
    "image1 = Image.open(io.BytesIO(images1[0].data))\n",
    "image2 = Image.open(io.BytesIO(images2[0].data))\n",
    "\n",
    "# <https://content-blockchain.org/research/testing-different-image-hash-functions/>\n",
    "hashfuncs = [\n",
    "    imagehash.phash,\n",
    "    imagehash.average_hash,\n",
    "    imagehash.whash,\n",
    "    imagehash.dhash,\n",
    "    imagehash.dhash_vertical,\n",
    "]\n",
    "\n",
    "threshold=6.4\n",
    "\n",
    "for hashfunc in hashfuncs:\n",
    "    h1 = hashfunc(image1)\n",
    "    h2 = hashfunc(image2)\n",
    "\n",
    "    print(f\"\\\n",
    "        is eq {h1 == h2},\\\n",
    "        is eq with threshold {h1 - h2 < threshold},\\\n",
    "        hamming dist {h1 - h2},\\\n",
    "        hashlen {len(h1)}\")\n",
    "    "
   ]
  },
  {
   "cell_type": "markdown",
   "metadata": {},
   "source": [
    "CLIP и sentence transformers <https://huggingface.co/sentence-transformers/clip-ViT-B-32>"
   ]
  },
  {
   "cell_type": "code",
   "execution_count": 25,
   "metadata": {},
   "outputs": [
    {
     "data": {
      "text/plain": [
       "tensor([[1.0000, 0.9986],\n",
       "        [0.9986, 1.0000]])"
      ]
     },
     "execution_count": 25,
     "metadata": {},
     "output_type": "execute_result"
    }
   ],
   "source": [
    "from sentence_transformers import SentenceTransformer\n",
    "\n",
    "model = SentenceTransformer(\"clip-ViT-B-32\")\n",
    "embeddings = model.encode([\n",
    "    image1,\n",
    "    image2\n",
    "])\n",
    "\n",
    "similarities = model.similarity(embeddings, embeddings)\n",
    "\n",
    "similarities"
   ]
  }
 ],
 "metadata": {
  "kernelspec": {
   "display_name": ".venv",
   "language": "python",
   "name": "python3"
  },
  "language_info": {
   "codemirror_mode": {
    "name": "ipython",
    "version": 3
   },
   "file_extension": ".py",
   "mimetype": "text/x-python",
   "name": "python",
   "nbconvert_exporter": "python",
   "pygments_lexer": "ipython3",
   "version": "3.12.4"
  }
 },
 "nbformat": 4,
 "nbformat_minor": 2
}
