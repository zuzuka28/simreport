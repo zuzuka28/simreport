{
 "cells": [
  {
   "cell_type": "code",
   "execution_count": 1,
   "metadata": {},
   "outputs": [
    {
     "name": "stdout",
     "output_type": "stream",
     "text": [
      "Requirement already satisfied: pandas in ./.venv/lib/python3.11/site-packages (2.2.3)\n",
      "Requirement already satisfied: numpy in ./.venv/lib/python3.11/site-packages (1.26.4)\n",
      "Requirement already satisfied: seaborn in ./.venv/lib/python3.11/site-packages (0.13.2)\n",
      "Requirement already satisfied: matplotlib in ./.venv/lib/python3.11/site-packages (3.10.1)\n",
      "Requirement already satisfied: spacy in ./.venv/lib/python3.11/site-packages (3.8.4)\n",
      "Requirement already satisfied: nltk in ./.venv/lib/python3.11/site-packages (3.9.1)\n",
      "Requirement already satisfied: datasketch in ./.venv/lib/python3.11/site-packages (1.6.5)\n",
      "Requirement already satisfied: sentence-transformers in ./.venv/lib/python3.11/site-packages (3.4.1)\n",
      "Requirement already satisfied: scikit-learn in ./.venv/lib/python3.11/site-packages (1.6.1)\n",
      "Requirement already satisfied: unisim in ./.venv/lib/python3.11/site-packages (1.0.1)\n",
      "Requirement already satisfied: gensim in ./.venv/lib/python3.11/site-packages (4.3.3)\n",
      "Requirement already satisfied: simhash in ./.venv/lib/python3.11/site-packages (2.1.2)\n",
      "Requirement already satisfied: Levenshtein in ./.venv/lib/python3.11/site-packages (0.26.1)\n",
      "Requirement already satisfied: tensorflow-hub in ./.venv/lib/python3.11/site-packages (0.16.1)\n",
      "Requirement already satisfied: transformers in ./.venv/lib/python3.11/site-packages (4.49.0)\n",
      "Requirement already satisfied: torch in ./.venv/lib/python3.11/site-packages (2.6.0)\n",
      "Requirement already satisfied: plotly in ./.venv/lib/python3.11/site-packages (6.0.0)\n",
      "Requirement already satisfied: nbformat in ./.venv/lib/python3.11/site-packages (5.10.4)\n",
      "Requirement already satisfied: datasets in ./.venv/lib/python3.11/site-packages (3.3.2)\n",
      "Requirement already satisfied: ipywidgets in ./.venv/lib/python3.11/site-packages (8.1.5)\n",
      "Requirement already satisfied: pymorphy3 in ./.venv/lib/python3.11/site-packages (2.0.3)\n",
      "Requirement already satisfied: python-dateutil>=2.8.2 in ./.venv/lib/python3.11/site-packages (from pandas) (2.9.0.post0)\n",
      "Requirement already satisfied: pytz>=2020.1 in ./.venv/lib/python3.11/site-packages (from pandas) (2025.1)\n",
      "Requirement already satisfied: tzdata>=2022.7 in ./.venv/lib/python3.11/site-packages (from pandas) (2025.1)\n",
      "Requirement already satisfied: contourpy>=1.0.1 in ./.venv/lib/python3.11/site-packages (from matplotlib) (1.3.1)\n",
      "Requirement already satisfied: cycler>=0.10 in ./.venv/lib/python3.11/site-packages (from matplotlib) (0.12.1)\n",
      "Requirement already satisfied: fonttools>=4.22.0 in ./.venv/lib/python3.11/site-packages (from matplotlib) (4.56.0)\n",
      "Requirement already satisfied: kiwisolver>=1.3.1 in ./.venv/lib/python3.11/site-packages (from matplotlib) (1.4.8)\n",
      "Requirement already satisfied: packaging>=20.0 in ./.venv/lib/python3.11/site-packages (from matplotlib) (24.2)\n",
      "Requirement already satisfied: pillow>=8 in ./.venv/lib/python3.11/site-packages (from matplotlib) (11.1.0)\n",
      "Requirement already satisfied: pyparsing>=2.3.1 in ./.venv/lib/python3.11/site-packages (from matplotlib) (3.2.1)\n",
      "Requirement already satisfied: spacy-legacy<3.1.0,>=3.0.11 in ./.venv/lib/python3.11/site-packages (from spacy) (3.0.12)\n",
      "Requirement already satisfied: spacy-loggers<2.0.0,>=1.0.0 in ./.venv/lib/python3.11/site-packages (from spacy) (1.0.5)\n",
      "Requirement already satisfied: murmurhash<1.1.0,>=0.28.0 in ./.venv/lib/python3.11/site-packages (from spacy) (1.0.12)\n",
      "Requirement already satisfied: cymem<2.1.0,>=2.0.2 in ./.venv/lib/python3.11/site-packages (from spacy) (2.0.11)\n",
      "Requirement already satisfied: preshed<3.1.0,>=3.0.2 in ./.venv/lib/python3.11/site-packages (from spacy) (3.0.9)\n",
      "Requirement already satisfied: thinc<8.4.0,>=8.3.4 in ./.venv/lib/python3.11/site-packages (from spacy) (8.3.4)\n",
      "Requirement already satisfied: wasabi<1.2.0,>=0.9.1 in ./.venv/lib/python3.11/site-packages (from spacy) (1.1.3)\n",
      "Requirement already satisfied: srsly<3.0.0,>=2.4.3 in ./.venv/lib/python3.11/site-packages (from spacy) (2.5.1)\n",
      "Requirement already satisfied: catalogue<2.1.0,>=2.0.6 in ./.venv/lib/python3.11/site-packages (from spacy) (2.0.10)\n",
      "Requirement already satisfied: weasel<0.5.0,>=0.1.0 in ./.venv/lib/python3.11/site-packages (from spacy) (0.4.1)\n",
      "Requirement already satisfied: typer<1.0.0,>=0.3.0 in ./.venv/lib/python3.11/site-packages (from spacy) (0.15.2)\n",
      "Requirement already satisfied: tqdm<5.0.0,>=4.38.0 in ./.venv/lib/python3.11/site-packages (from spacy) (4.67.1)\n",
      "Requirement already satisfied: requests<3.0.0,>=2.13.0 in ./.venv/lib/python3.11/site-packages (from spacy) (2.32.3)\n",
      "Requirement already satisfied: pydantic!=1.8,!=1.8.1,<3.0.0,>=1.7.4 in ./.venv/lib/python3.11/site-packages (from spacy) (2.10.6)\n",
      "Requirement already satisfied: jinja2 in ./.venv/lib/python3.11/site-packages (from spacy) (3.1.5)\n",
      "Requirement already satisfied: setuptools in ./.venv/lib/python3.11/site-packages (from spacy) (69.0.2)\n",
      "Requirement already satisfied: langcodes<4.0.0,>=3.2.0 in ./.venv/lib/python3.11/site-packages (from spacy) (3.5.0)\n",
      "Requirement already satisfied: click in ./.venv/lib/python3.11/site-packages (from nltk) (8.1.8)\n",
      "Requirement already satisfied: joblib in ./.venv/lib/python3.11/site-packages (from nltk) (1.4.2)\n",
      "Requirement already satisfied: regex>=2021.8.3 in ./.venv/lib/python3.11/site-packages (from nltk) (2024.11.6)\n",
      "Requirement already satisfied: scipy>=1.0.0 in ./.venv/lib/python3.11/site-packages (from datasketch) (1.13.1)\n",
      "Requirement already satisfied: huggingface-hub>=0.20.0 in ./.venv/lib/python3.11/site-packages (from sentence-transformers) (0.29.1)\n",
      "Requirement already satisfied: threadpoolctl>=3.1.0 in ./.venv/lib/python3.11/site-packages (from scikit-learn) (3.5.0)\n",
      "Requirement already satisfied: tabulate in ./.venv/lib/python3.11/site-packages (from unisim) (0.9.0)\n",
      "Requirement already satisfied: jaxtyping in ./.venv/lib/python3.11/site-packages (from unisim) (0.2.38)\n",
      "Requirement already satisfied: onnx in ./.venv/lib/python3.11/site-packages (from unisim) (1.17.0)\n",
      "Requirement already satisfied: onnxruntime in ./.venv/lib/python3.11/site-packages (from unisim) (1.20.1)\n",
      "Requirement already satisfied: usearch>=2.6.0 in ./.venv/lib/python3.11/site-packages (from unisim) (2.16.9)\n",
      "Requirement already satisfied: smart-open>=1.8.1 in ./.venv/lib/python3.11/site-packages (from gensim) (7.1.0)\n",
      "Requirement already satisfied: rapidfuzz<4.0.0,>=3.9.0 in ./.venv/lib/python3.11/site-packages (from Levenshtein) (3.12.1)\n",
      "Requirement already satisfied: protobuf>=3.19.6 in ./.venv/lib/python3.11/site-packages (from tensorflow-hub) (5.29.3)\n",
      "Requirement already satisfied: tf-keras>=2.14.1 in ./.venv/lib/python3.11/site-packages (from tensorflow-hub) (2.18.0)\n",
      "Requirement already satisfied: filelock in ./.venv/lib/python3.11/site-packages (from transformers) (3.17.0)\n",
      "Requirement already satisfied: pyyaml>=5.1 in ./.venv/lib/python3.11/site-packages (from transformers) (6.0.2)\n",
      "Requirement already satisfied: tokenizers<0.22,>=0.21 in ./.venv/lib/python3.11/site-packages (from transformers) (0.21.0)\n",
      "Requirement already satisfied: safetensors>=0.4.1 in ./.venv/lib/python3.11/site-packages (from transformers) (0.5.3)\n",
      "Requirement already satisfied: typing-extensions>=4.10.0 in ./.venv/lib/python3.11/site-packages (from torch) (4.12.2)\n",
      "Requirement already satisfied: networkx in ./.venv/lib/python3.11/site-packages (from torch) (3.4.2)\n",
      "Requirement already satisfied: fsspec in ./.venv/lib/python3.11/site-packages (from torch) (2024.12.0)\n",
      "Requirement already satisfied: sympy==1.13.1 in ./.venv/lib/python3.11/site-packages (from torch) (1.13.1)\n",
      "Requirement already satisfied: mpmath<1.4,>=1.1.0 in ./.venv/lib/python3.11/site-packages (from sympy==1.13.1->torch) (1.3.0)\n",
      "Requirement already satisfied: narwhals>=1.15.1 in ./.venv/lib/python3.11/site-packages (from plotly) (1.28.0)\n",
      "Requirement already satisfied: fastjsonschema>=2.15 in ./.venv/lib/python3.11/site-packages (from nbformat) (2.21.1)\n",
      "Requirement already satisfied: jsonschema>=2.6 in ./.venv/lib/python3.11/site-packages (from nbformat) (4.23.0)\n",
      "Requirement already satisfied: jupyter-core!=5.0.*,>=4.12 in ./.venv/lib/python3.11/site-packages (from nbformat) (5.7.2)\n",
      "Requirement already satisfied: traitlets>=5.1 in ./.venv/lib/python3.11/site-packages (from nbformat) (5.14.3)\n",
      "Requirement already satisfied: pyarrow>=15.0.0 in ./.venv/lib/python3.11/site-packages (from datasets) (19.0.1)\n",
      "Requirement already satisfied: dill<0.3.9,>=0.3.0 in ./.venv/lib/python3.11/site-packages (from datasets) (0.3.8)\n",
      "Requirement already satisfied: xxhash in ./.venv/lib/python3.11/site-packages (from datasets) (3.5.0)\n",
      "Requirement already satisfied: multiprocess<0.70.17 in ./.venv/lib/python3.11/site-packages (from datasets) (0.70.16)\n",
      "Requirement already satisfied: aiohttp in ./.venv/lib/python3.11/site-packages (from datasets) (3.11.13)\n",
      "Requirement already satisfied: comm>=0.1.3 in ./.venv/lib/python3.11/site-packages (from ipywidgets) (0.2.2)\n",
      "Requirement already satisfied: ipython>=6.1.0 in ./.venv/lib/python3.11/site-packages (from ipywidgets) (9.0.0)\n",
      "Requirement already satisfied: widgetsnbextension~=4.0.12 in ./.venv/lib/python3.11/site-packages (from ipywidgets) (4.0.13)\n",
      "Requirement already satisfied: jupyterlab-widgets~=3.0.12 in ./.venv/lib/python3.11/site-packages (from ipywidgets) (3.0.13)\n",
      "Requirement already satisfied: dawg2-python>=0.8.0 in ./.venv/lib/python3.11/site-packages (from pymorphy3) (0.9.0)\n",
      "Requirement already satisfied: pymorphy3-dicts-ru in ./.venv/lib/python3.11/site-packages (from pymorphy3) (2.4.417150.4580142)\n",
      "Requirement already satisfied: aiohappyeyeballs>=2.3.0 in ./.venv/lib/python3.11/site-packages (from aiohttp->datasets) (2.5.0)\n",
      "Requirement already satisfied: aiosignal>=1.1.2 in ./.venv/lib/python3.11/site-packages (from aiohttp->datasets) (1.3.2)\n",
      "Requirement already satisfied: attrs>=17.3.0 in ./.venv/lib/python3.11/site-packages (from aiohttp->datasets) (25.1.0)\n",
      "Requirement already satisfied: frozenlist>=1.1.1 in ./.venv/lib/python3.11/site-packages (from aiohttp->datasets) (1.5.0)\n",
      "Requirement already satisfied: multidict<7.0,>=4.5 in ./.venv/lib/python3.11/site-packages (from aiohttp->datasets) (6.1.0)\n",
      "Requirement already satisfied: propcache>=0.2.0 in ./.venv/lib/python3.11/site-packages (from aiohttp->datasets) (0.3.0)\n",
      "Requirement already satisfied: yarl<2.0,>=1.17.0 in ./.venv/lib/python3.11/site-packages (from aiohttp->datasets) (1.18.3)\n",
      "Requirement already satisfied: decorator in ./.venv/lib/python3.11/site-packages (from ipython>=6.1.0->ipywidgets) (5.2.1)\n",
      "Requirement already satisfied: ipython-pygments-lexers in ./.venv/lib/python3.11/site-packages (from ipython>=6.1.0->ipywidgets) (1.1.1)\n",
      "Requirement already satisfied: jedi>=0.16 in ./.venv/lib/python3.11/site-packages (from ipython>=6.1.0->ipywidgets) (0.19.2)\n",
      "Requirement already satisfied: matplotlib-inline in ./.venv/lib/python3.11/site-packages (from ipython>=6.1.0->ipywidgets) (0.1.7)\n",
      "Requirement already satisfied: pexpect>4.3 in ./.venv/lib/python3.11/site-packages (from ipython>=6.1.0->ipywidgets) (4.9.0)\n",
      "Requirement already satisfied: prompt_toolkit<3.1.0,>=3.0.41 in ./.venv/lib/python3.11/site-packages (from ipython>=6.1.0->ipywidgets) (3.0.50)\n",
      "Requirement already satisfied: pygments>=2.4.0 in ./.venv/lib/python3.11/site-packages (from ipython>=6.1.0->ipywidgets) (2.19.1)\n",
      "Requirement already satisfied: stack_data in ./.venv/lib/python3.11/site-packages (from ipython>=6.1.0->ipywidgets) (0.6.3)\n",
      "Requirement already satisfied: jsonschema-specifications>=2023.03.6 in ./.venv/lib/python3.11/site-packages (from jsonschema>=2.6->nbformat) (2024.10.1)\n",
      "Requirement already satisfied: referencing>=0.28.4 in ./.venv/lib/python3.11/site-packages (from jsonschema>=2.6->nbformat) (0.36.2)\n",
      "Requirement already satisfied: rpds-py>=0.7.1 in ./.venv/lib/python3.11/site-packages (from jsonschema>=2.6->nbformat) (0.23.1)\n",
      "Requirement already satisfied: platformdirs>=2.5 in ./.venv/lib/python3.11/site-packages (from jupyter-core!=5.0.*,>=4.12->nbformat) (4.3.6)\n",
      "Requirement already satisfied: language-data>=1.2 in ./.venv/lib/python3.11/site-packages (from langcodes<4.0.0,>=3.2.0->spacy) (1.3.0)\n",
      "Requirement already satisfied: annotated-types>=0.6.0 in ./.venv/lib/python3.11/site-packages (from pydantic!=1.8,!=1.8.1,<3.0.0,>=1.7.4->spacy) (0.7.0)\n",
      "Requirement already satisfied: pydantic-core==2.27.2 in ./.venv/lib/python3.11/site-packages (from pydantic!=1.8,!=1.8.1,<3.0.0,>=1.7.4->spacy) (2.27.2)\n",
      "Requirement already satisfied: six>=1.5 in ./.venv/lib/python3.11/site-packages (from python-dateutil>=2.8.2->pandas) (1.17.0)\n",
      "Requirement already satisfied: charset-normalizer<4,>=2 in ./.venv/lib/python3.11/site-packages (from requests<3.0.0,>=2.13.0->spacy) (3.4.1)\n",
      "Requirement already satisfied: idna<4,>=2.5 in ./.venv/lib/python3.11/site-packages (from requests<3.0.0,>=2.13.0->spacy) (3.10)\n",
      "Requirement already satisfied: urllib3<3,>=1.21.1 in ./.venv/lib/python3.11/site-packages (from requests<3.0.0,>=2.13.0->spacy) (2.3.0)\n",
      "Requirement already satisfied: certifi>=2017.4.17 in ./.venv/lib/python3.11/site-packages (from requests<3.0.0,>=2.13.0->spacy) (2025.1.31)\n",
      "Requirement already satisfied: wrapt in ./.venv/lib/python3.11/site-packages (from smart-open>=1.8.1->gensim) (1.17.2)\n",
      "Requirement already satisfied: tensorflow<2.19,>=2.18 in ./.venv/lib/python3.11/site-packages (from tf-keras>=2.14.1->tensorflow-hub) (2.18.0)\n",
      "Requirement already satisfied: blis<1.3.0,>=1.2.0 in ./.venv/lib/python3.11/site-packages (from thinc<8.4.0,>=8.3.4->spacy) (1.2.0)\n",
      "Requirement already satisfied: confection<1.0.0,>=0.0.1 in ./.venv/lib/python3.11/site-packages (from thinc<8.4.0,>=8.3.4->spacy) (0.1.5)\n",
      "Requirement already satisfied: shellingham>=1.3.0 in ./.venv/lib/python3.11/site-packages (from typer<1.0.0,>=0.3.0->spacy) (1.5.4)\n",
      "Requirement already satisfied: rich>=10.11.0 in ./.venv/lib/python3.11/site-packages (from typer<1.0.0,>=0.3.0->spacy) (13.9.4)\n",
      "Requirement already satisfied: simsimd<7.0.0,>=6.0.5 in ./.venv/lib/python3.11/site-packages (from usearch>=2.6.0->unisim) (6.2.1)\n",
      "Requirement already satisfied: cloudpathlib<1.0.0,>=0.7.0 in ./.venv/lib/python3.11/site-packages (from weasel<0.5.0,>=0.1.0->spacy) (0.20.0)\n",
      "Requirement already satisfied: wadler-lindig>=0.1.3 in ./.venv/lib/python3.11/site-packages (from jaxtyping->unisim) (0.1.3)\n",
      "Requirement already satisfied: MarkupSafe>=2.0 in ./.venv/lib/python3.11/site-packages (from jinja2->spacy) (3.0.2)\n",
      "Requirement already satisfied: coloredlogs in ./.venv/lib/python3.11/site-packages (from onnxruntime->unisim) (15.0.1)\n",
      "Requirement already satisfied: flatbuffers in ./.venv/lib/python3.11/site-packages (from onnxruntime->unisim) (25.2.10)\n",
      "Requirement already satisfied: parso<0.9.0,>=0.8.4 in ./.venv/lib/python3.11/site-packages (from jedi>=0.16->ipython>=6.1.0->ipywidgets) (0.8.4)\n",
      "Requirement already satisfied: marisa-trie>=1.1.0 in ./.venv/lib/python3.11/site-packages (from language-data>=1.2->langcodes<4.0.0,>=3.2.0->spacy) (1.2.1)\n",
      "Requirement already satisfied: ptyprocess>=0.5 in ./.venv/lib/python3.11/site-packages (from pexpect>4.3->ipython>=6.1.0->ipywidgets) (0.7.0)\n",
      "Requirement already satisfied: wcwidth in ./.venv/lib/python3.11/site-packages (from prompt_toolkit<3.1.0,>=3.0.41->ipython>=6.1.0->ipywidgets) (0.2.13)\n",
      "Requirement already satisfied: markdown-it-py>=2.2.0 in ./.venv/lib/python3.11/site-packages (from rich>=10.11.0->typer<1.0.0,>=0.3.0->spacy) (3.0.0)\n",
      "Requirement already satisfied: absl-py>=1.0.0 in ./.venv/lib/python3.11/site-packages (from tensorflow<2.19,>=2.18->tf-keras>=2.14.1->tensorflow-hub) (2.1.0)\n",
      "Requirement already satisfied: astunparse>=1.6.0 in ./.venv/lib/python3.11/site-packages (from tensorflow<2.19,>=2.18->tf-keras>=2.14.1->tensorflow-hub) (1.6.3)\n",
      "Requirement already satisfied: gast!=0.5.0,!=0.5.1,!=0.5.2,>=0.2.1 in ./.venv/lib/python3.11/site-packages (from tensorflow<2.19,>=2.18->tf-keras>=2.14.1->tensorflow-hub) (0.6.0)\n",
      "Requirement already satisfied: google-pasta>=0.1.1 in ./.venv/lib/python3.11/site-packages (from tensorflow<2.19,>=2.18->tf-keras>=2.14.1->tensorflow-hub) (0.2.0)\n",
      "Requirement already satisfied: libclang>=13.0.0 in ./.venv/lib/python3.11/site-packages (from tensorflow<2.19,>=2.18->tf-keras>=2.14.1->tensorflow-hub) (18.1.1)\n",
      "Requirement already satisfied: opt-einsum>=2.3.2 in ./.venv/lib/python3.11/site-packages (from tensorflow<2.19,>=2.18->tf-keras>=2.14.1->tensorflow-hub) (3.4.0)\n",
      "Requirement already satisfied: termcolor>=1.1.0 in ./.venv/lib/python3.11/site-packages (from tensorflow<2.19,>=2.18->tf-keras>=2.14.1->tensorflow-hub) (2.5.0)\n",
      "Requirement already satisfied: grpcio<2.0,>=1.24.3 in ./.venv/lib/python3.11/site-packages (from tensorflow<2.19,>=2.18->tf-keras>=2.14.1->tensorflow-hub) (1.70.0)\n",
      "Requirement already satisfied: tensorboard<2.19,>=2.18 in ./.venv/lib/python3.11/site-packages (from tensorflow<2.19,>=2.18->tf-keras>=2.14.1->tensorflow-hub) (2.18.0)\n",
      "Requirement already satisfied: keras>=3.5.0 in ./.venv/lib/python3.11/site-packages (from tensorflow<2.19,>=2.18->tf-keras>=2.14.1->tensorflow-hub) (3.8.0)\n",
      "Requirement already satisfied: h5py>=3.11.0 in ./.venv/lib/python3.11/site-packages (from tensorflow<2.19,>=2.18->tf-keras>=2.14.1->tensorflow-hub) (3.13.0)\n",
      "Requirement already satisfied: ml-dtypes<0.5.0,>=0.4.0 in ./.venv/lib/python3.11/site-packages (from tensorflow<2.19,>=2.18->tf-keras>=2.14.1->tensorflow-hub) (0.4.1)\n",
      "Requirement already satisfied: tensorflow-io-gcs-filesystem>=0.23.1 in ./.venv/lib/python3.11/site-packages (from tensorflow<2.19,>=2.18->tf-keras>=2.14.1->tensorflow-hub) (0.37.1)\n",
      "Requirement already satisfied: humanfriendly>=9.1 in ./.venv/lib/python3.11/site-packages (from coloredlogs->onnxruntime->unisim) (10.0)\n",
      "Requirement already satisfied: executing>=1.2.0 in ./.venv/lib/python3.11/site-packages (from stack_data->ipython>=6.1.0->ipywidgets) (2.2.0)\n",
      "Requirement already satisfied: asttokens>=2.1.0 in ./.venv/lib/python3.11/site-packages (from stack_data->ipython>=6.1.0->ipywidgets) (3.0.0)\n",
      "Requirement already satisfied: pure-eval in ./.venv/lib/python3.11/site-packages (from stack_data->ipython>=6.1.0->ipywidgets) (0.2.3)\n",
      "Requirement already satisfied: wheel<1.0,>=0.23.0 in ./.venv/lib/python3.11/site-packages (from astunparse>=1.6.0->tensorflow<2.19,>=2.18->tf-keras>=2.14.1->tensorflow-hub) (0.45.1)\n",
      "Requirement already satisfied: namex in ./.venv/lib/python3.11/site-packages (from keras>=3.5.0->tensorflow<2.19,>=2.18->tf-keras>=2.14.1->tensorflow-hub) (0.0.8)\n",
      "Requirement already satisfied: optree in ./.venv/lib/python3.11/site-packages (from keras>=3.5.0->tensorflow<2.19,>=2.18->tf-keras>=2.14.1->tensorflow-hub) (0.14.1)\n",
      "Requirement already satisfied: mdurl~=0.1 in ./.venv/lib/python3.11/site-packages (from markdown-it-py>=2.2.0->rich>=10.11.0->typer<1.0.0,>=0.3.0->spacy) (0.1.2)\n",
      "Requirement already satisfied: markdown>=2.6.8 in ./.venv/lib/python3.11/site-packages (from tensorboard<2.19,>=2.18->tensorflow<2.19,>=2.18->tf-keras>=2.14.1->tensorflow-hub) (3.7)\n",
      "Requirement already satisfied: tensorboard-data-server<0.8.0,>=0.7.0 in ./.venv/lib/python3.11/site-packages (from tensorboard<2.19,>=2.18->tensorflow<2.19,>=2.18->tf-keras>=2.14.1->tensorflow-hub) (0.7.2)\n",
      "Requirement already satisfied: werkzeug>=1.0.1 in ./.venv/lib/python3.11/site-packages (from tensorboard<2.19,>=2.18->tensorflow<2.19,>=2.18->tf-keras>=2.14.1->tensorflow-hub) (3.1.3)\n",
      "Note: you may need to restart the kernel to use updated packages.\n"
     ]
    }
   ],
   "source": [
    "%pip install pandas numpy seaborn matplotlib spacy nltk datasketch sentence-transformers scikit-learn unisim gensim simhash Levenshtein tensorflow-hub transformers torch plotly nbformat datasets ipywidgets pymorphy3"
   ]
  },
  {
   "cell_type": "code",
   "execution_count": 2,
   "metadata": {},
   "outputs": [
    {
     "name": "stderr",
     "output_type": "stream",
     "text": [
      "[nltk_data] Downloading package punkt to /Users/zuzuka28/nltk_data...\n",
      "[nltk_data]   Package punkt is already up-to-date!\n",
      "[nltk_data] Downloading package punkt_tab to\n",
      "[nltk_data]     /Users/zuzuka28/nltk_data...\n",
      "[nltk_data]   Package punkt_tab is already up-to-date!\n",
      "[nltk_data] Downloading package words to /Users/zuzuka28/nltk_data...\n",
      "[nltk_data]   Package words is already up-to-date!\n",
      "[nltk_data] Downloading package wordnet to\n",
      "[nltk_data]     /Users/zuzuka28/nltk_data...\n",
      "[nltk_data]   Package wordnet is already up-to-date!\n"
     ]
    },
    {
     "data": {
      "text/plain": [
       "True"
      ]
     },
     "execution_count": 2,
     "metadata": {},
     "output_type": "execute_result"
    }
   ],
   "source": [
    "import nltk\n",
    "nltk.download('punkt')\n",
    "nltk.download('punkt_tab')\n",
    "nltk.download('words')\n",
    "nltk.download('wordnet')"
   ]
  },
  {
   "cell_type": "code",
   "execution_count": null,
   "metadata": {},
   "outputs": [],
   "source": [
    "import pandas as pd\n",
    "import numpy as np\n",
    "import matplotlib.pyplot as plt\n",
    "import seaborn as sns"
   ]
  },
  {
   "cell_type": "code",
   "execution_count": 4,
   "metadata": {},
   "outputs": [
    {
     "data": {
      "application/vnd.jupyter.widget-view+json": {
       "model_id": "625e6603f894424b9a22d43537e8a4de",
       "version_major": 2,
       "version_minor": 0
      },
      "text/plain": [
       "Resolving data files:   0%|          | 0/19 [00:00<?, ?it/s]"
      ]
     },
     "metadata": {},
     "output_type": "display_data"
    },
    {
     "data": {
      "application/vnd.jupyter.widget-view+json": {
       "model_id": "d2e7128d7a914621b693a1c6a19a6efc",
       "version_major": 2,
       "version_minor": 0
      },
      "text/plain": [
       "Loading dataset shards:   0%|          | 0/19 [00:00<?, ?it/s]"
      ]
     },
     "metadata": {},
     "output_type": "display_data"
    }
   ],
   "source": [
    "from datasets import load_dataset\n",
    "\n",
    "ds = load_dataset(\"google/wiki40b\", \"en\")"
   ]
  },
  {
   "cell_type": "code",
   "execution_count": 5,
   "metadata": {},
   "outputs": [
    {
     "data": {
      "text/plain": [
       "'\\n_START_ARTICLE_\\nÉmile Dubonnet\\n_START_PARAGRAPH_\\nÉmile Dubonnet (18 October 1883 - 1940) was a French balloonist active from 1908 to 1913. He participated in the 1908, 1909, and 1911 Gordon Bennett Cup in ballooning and was a member of the Aéro-Club de France. He won the La Grande Medialle de Aéro-Club de France in 1912. He holds a Fédération Aéronautique Internationale record from 1912-1913.\\n_START_SECTION_\\nBiography\\n_START_PARAGRAPH_\\nHe was born on 18 October 1883 in Paris to a winemaker. In 1910 he flew over Paris in his Tellier brothers aircraft. He started from the Juvisy-sur-Orge field and made a landing at Bois de Boulogne _NEWLINE_He also helped form the first professional baseball league in France, the French Baseball Union, in 1912.'"
      ]
     },
     "execution_count": 5,
     "metadata": {},
     "output_type": "execute_result"
    }
   ],
   "source": [
    "ds[\"train\"][1][\"text\"]"
   ]
  },
  {
   "cell_type": "code",
   "execution_count": 6,
   "metadata": {},
   "outputs": [
    {
     "name": "stderr",
     "output_type": "stream",
     "text": [
      "[nltk_data] Downloading package punkt to /Users/zuzuka28/nltk_data...\n",
      "[nltk_data]   Package punkt is already up-to-date!\n"
     ]
    }
   ],
   "source": [
    "import nltk\n",
    "from nltk.tokenize import sent_tokenize\n",
    "from typing import List\n",
    "from datasets import DatasetDict\n",
    "\n",
    "nltk.download('punkt')\n",
    "\n",
    "def clean_example(sentence: str) -> str:\n",
    "    to_replace = [\"_START_ARTICLE_\", \"_START_SECTION_\", \"_START_PARAGRAPH_\", \"_NEWLINE_\", \"\\n\"]\n",
    "    for item in to_replace:\n",
    "        sentence = sentence.replace(item, \" \")\n",
    "    return sentence.strip()\n",
    "\n",
    "def split_into_sentences(text: str) -> List[str]:\n",
    "    return sent_tokenize(text, language='english')\n",
    "\n",
    "def truncate_at_word_boundary(text: str, max_length: int) -> str:\n",
    "    if len(text) <= max_length:\n",
    "        return text\n",
    "    truncated = text[:max_length]\n",
    "    last_space = truncated.rfind(' ')\n",
    "    if last_space == -1:\n",
    "        return truncated\n",
    "    return truncated[:last_space].strip()\n",
    "\n",
    "def collect_texts_by_size(dataset: DatasetDict, target_size: int, num_texts: int) -> List[str]:\n",
    "    texts = []\n",
    "\n",
    "    for example in dataset:\n",
    "        text = example['text']\n",
    "        sentences = split_into_sentences(text)\n",
    "\n",
    "        full_text = \" \".join(sentences)\n",
    "        full_text = clean_example(full_text)\n",
    "\n",
    "        if len(full_text) < target_size:\n",
    "            continue\n",
    "\n",
    "        truncated_text = truncate_at_word_boundary(full_text, target_size)\n",
    "\n",
    "        if truncated_text:\n",
    "            texts.append(truncated_text)\n",
    "\n",
    "        if len(texts) >= num_texts:\n",
    "            break\n",
    "\n",
    "    return texts\n",
    "\n",
    "num_texts = 100\n",
    "target_sizes = [100, 250, 500, 750, 1000, 2000]\n",
    "\n",
    "result = {}\n",
    "\n",
    "for size in target_sizes:\n",
    "    result[size] = collect_texts_by_size(ds[\"train\"], size, num_texts)\n",
    "\n",
    "data = []\n",
    "\n",
    "for size, texts in result.items():\n",
    "    data.extend([{'size': size, 'text': text} for text in texts ])\n",
    "\n",
    "df = pd.DataFrame(data)\n",
    "df.to_csv('source_texts.csv', index=False)"
   ]
  },
  {
   "cell_type": "code",
   "execution_count": 7,
   "metadata": {},
   "outputs": [
    {
     "name": "stderr",
     "output_type": "stream",
     "text": [
      "[nltk_data] Downloading package punkt to /Users/zuzuka28/nltk_data...\n",
      "[nltk_data]   Package punkt is already up-to-date!\n",
      "[nltk_data] Downloading package punkt_tab to\n",
      "[nltk_data]     /Users/zuzuka28/nltk_data...\n",
      "[nltk_data]   Package punkt_tab is already up-to-date!\n",
      "[nltk_data] Downloading package words to /Users/zuzuka28/nltk_data...\n",
      "[nltk_data]   Package words is already up-to-date!\n"
     ]
    }
   ],
   "source": [
    "from text_augmentor import SentenceAugmentor, WordAugmentor, CharacterAugmentor\n",
    "\n",
    "sentence_augmentor = SentenceAugmentor(language=\"english\")\n",
    "word_augmentor = WordAugmentor(language=\"english\")\n",
    "character_augmentor = CharacterAugmentor(language=\"english\")\n",
    "\n",
    "sentence_methods = {\n",
    "    \"sent_random_deletion\": sentence_augmentor.random_deletion,\n",
    "    # \"sent_random_insertion\": sentence_augmentor.random_insertion,\n",
    "    \"sent_repeat_sentence\": sentence_augmentor.repeat_sentence,\n",
    "    # \"sent_random_substitution\": sentence_augmentor.random_substitution,\n",
    "    \"sent_neighboring_swap\": sentence_augmentor.neighboring_swap,\n",
    "}\n",
    "\n",
    "word_methods = {\n",
    "    \"word_random_deletion\": word_augmentor.random_deletion,\n",
    "    \"word_random_insertion\": word_augmentor.random_insertion,\n",
    "    \"word_random_substitution\": word_augmentor.random_substitution,\n",
    "    \"word_repeat_word\": word_augmentor.repeat_word,\n",
    "    \"word_neighboring_swap\": word_augmentor.neighboring_swap,\n",
    "}\n",
    "\n",
    "character_methods = {\n",
    "    \"char_random_deletion\": character_augmentor.random_deletion,\n",
    "    \"char_qwerty_typo_substitution\": character_augmentor.qwerty_typo_substitution,\n",
    "    \"char_character_repetition\": character_augmentor.character_repetition,\n",
    "    \"char_random_character_from_language_alphabet_insertion\": character_augmentor.random_character_from_language_alphabet_insertion,\n",
    "    \"char_neighboring_swap\": character_augmentor.neighboring_swap,\n",
    "}\n",
    "\n",
    "all_methods = {**sentence_methods, **word_methods, **character_methods}"
   ]
  },
  {
   "cell_type": "code",
   "execution_count": null,
   "metadata": {},
   "outputs": [],
   "source": [
    "from tqdm.notebook import tqdm\n",
    "\n",
    "df = pd.read_csv('source_texts.csv')\n",
    "df['method'] = pd.Series([\"\" for _ in range(0,  len(df))])\n",
    "df['rate'] = pd.Series([0 for _ in range(0,  len(df))])\n",
    "\n",
    "result = df\n",
    "\n",
    "\n",
    "for method_name, f in tqdm(all_methods.items()):\n",
    "    method_df = df.copy()\n",
    "    method_df[\"method\"] = pd.Series([method_name for _ in range(0,  len(df))])\n",
    "\n",
    "    for rate in tqdm([i / 100 for i in range(5, 100, 5)], desc=method_name, leave=False):\n",
    "        rate_df = method_df.copy()\n",
    "        rate_df[\"rate\"] = pd.Series([rate for _ in range(0,  len(df))])\n",
    "        rate_df[\"text\"] = rate_df[\"text\"].apply(lambda text: f(text, rate))\n",
    "        result = pd.concat([result, rate_df])\n",
    "\n",
    "result.to_csv('augmented_texts.csv', index=False)\n",
    "result"
   ]
  },
  {
   "cell_type": "code",
   "execution_count": 1,
   "metadata": {},
   "outputs": [
    {
     "name": "stderr",
     "output_type": "stream",
     "text": [
      "Some weights of RobertaModel were not initialized from the model checkpoint at roberta-base and are newly initialized: ['roberta.pooler.dense.bias', 'roberta.pooler.dense.weight']\n",
      "You should probably TRAIN this model on a down-stream task to be able to use it for predictions and inference.\n"
     ]
    }
   ],
   "source": [
    "from sentence_transformers import SentenceTransformer\n",
    "import gensim.downloader as gensim_api\n",
    "from transformers import BertTokenizer, BertModel, RobertaTokenizer, RobertaModel\n",
    "import tensorflow_hub as hub\n",
    "\n",
    "st_model = SentenceTransformer(\"paraphrase-MiniLM-L6-v2\")\n",
    "word2vec_model = gensim_api.load(\"word2vec-google-news-300\")\n",
    "fasttext_model = gensim_api.load(\"fasttext-wiki-news-subwords-300\")\n",
    "glove_model = gensim_api.load(\"glove-wiki-gigaword-50\")\n",
    "bert_tokenizer = BertTokenizer.from_pretrained(\"bert-base-uncased\")\n",
    "bert_model = BertModel.from_pretrained(\"bert-base-uncased\")\n",
    "# use_model = hub.load(\"https://tfhub.dev/google/universal-sentence-encoder/4\")\n",
    "roberta_tokenizer = RobertaTokenizer.from_pretrained(\"roberta-base\")\n",
    "roberta_model = RobertaModel.from_pretrained(\"roberta-base\")"
   ]
  },
  {
   "cell_type": "code",
   "execution_count": null,
   "metadata": {},
   "outputs": [],
   "source": [
    "from datasketch import MinHash\n",
    "from simhash import Simhash\n",
    "from sklearn.feature_extraction.text import CountVectorizer, TfidfVectorizer\n",
    "from sklearn.metrics.pairwise import cosine_similarity\n",
    "from unisim import TextSim\n",
    "from Levenshtein import ratio\n",
    "import torch\n",
    "from functools import wraps\n",
    "import time\n",
    "import nltk\n",
    "from nltk.corpus import stopwords\n",
    "from nltk.stem import PorterStemmer\n",
    "import re\n",
    "\n",
    "device = \"cpu\"\n",
    "\n",
    "if torch.mps.is_available():\n",
    "    device = \"mps\"\n",
    "elif torch.cuda.is_available():\n",
    "    device = \"cuda:0\"\n",
    "\n",
    "nltk.download(\"punkt\", quiet=True)\n",
    "nltk.download(\"stopwords\", quiet=True)\n",
    "stemmer = PorterStemmer()\n",
    "stop_words = set(stopwords.words(\"english\"))\n",
    "\n",
    "def preprocess_word(word):\n",
    "    word = re.sub(r'[^a-zA-Z]', '', word)\n",
    "    return word\n",
    "\n",
    "def safe_stem(word):\n",
    "    try:\n",
    "        return stemmer.stem(word)\n",
    "    except RecursionError:\n",
    "        return word \n",
    "\n",
    "def preprocess_text(text):\n",
    "    text = re.sub(r\"[^\\w\\s]\", \"\", text)\n",
    "    text = re.sub(r\"\\d+\", \"\", text)\n",
    "\n",
    "    words = nltk.word_tokenize(text.lower())\n",
    "\n",
    "    processed_words = []\n",
    "    for word in words:\n",
    "        cleaned_word = preprocess_word(word)\n",
    "        if cleaned_word:\n",
    "            stemmed_word = safe_stem(cleaned_word)\n",
    "            processed_words.append(stemmed_word)\n",
    "\n",
    "    return processed_words\n",
    "\n",
    "\n",
    "def create_shingles(tokens, shingle_size=3):\n",
    "    return [\n",
    "        \" \".join(tokens[i : i + shingle_size])\n",
    "        for i in range(len(tokens) - shingle_size + 1)\n",
    "    ]\n",
    "\n",
    "\n",
    "def minhash_similarity(text1, text2, num_perm=256, shingle_size=3):\n",
    "    tokens1 = preprocess_text(text1)\n",
    "    tokens2 = preprocess_text(text2)\n",
    "\n",
    "    shingles1 = create_shingles(tokens1, shingle_size)\n",
    "    shingles2 = create_shingles(tokens2, shingle_size)\n",
    "\n",
    "    if not shingles1 and not shingles2:\n",
    "        return 1.0\n",
    "    if not shingles1 or not shingles2:\n",
    "        return 0.0\n",
    "\n",
    "    m1 = MinHash(num_perm=num_perm)\n",
    "    m2 = MinHash(num_perm=num_perm)\n",
    "\n",
    "    for shingle in shingles1:\n",
    "        m1.update(shingle.encode(\"utf-8\"))\n",
    "    for shingle in shingles2:\n",
    "        m2.update(shingle.encode(\"utf-8\"))\n",
    "\n",
    "    return m1.jaccard(m2)\n",
    "\n",
    "\n",
    "# Функция для вычисления сходства с использованием SimHash\n",
    "def simhash_similarity(text1, text2):\n",
    "    tokens1 = preprocess_text(text1)\n",
    "    tokens2 = preprocess_text(text2)\n",
    "\n",
    "    hash1 = Simhash(tokens1)\n",
    "    hash2 = Simhash(tokens2)\n",
    "\n",
    "    return 1 - hash1.distance(hash2) / 64\n",
    "\n",
    "\n",
    "# Функция для вычисления сходства с использованием Sentence Transformers\n",
    "def sentence_transformers_similarity(text1, text2):\n",
    "    model = st_model\n",
    "    embeddings = model.encode([text1, text2])\n",
    "    return cosine_similarity([embeddings[0]], [embeddings[1]])[0][0]\n",
    "\n",
    "\n",
    "# Функция для вычисления сходства с использованием CountVectorizer\n",
    "def count_vectorizer_similarity(text1, text2):\n",
    "    text1 = \" \".join(preprocess_text(text1))\n",
    "    text2 = \" \".join(preprocess_text(text2))\n",
    "    vectorizer = CountVectorizer().fit([text1, text2])\n",
    "    vectors = vectorizer.transform([text1, text2])\n",
    "    return cosine_similarity(vectors[0], vectors[1])[0][0]\n",
    "\n",
    "\n",
    "# Функция для вычисления сходства с использованием TfidfVectorizer\n",
    "def tfidf_vectorizer_similarity(text1, text2):\n",
    "    text1 = \" \".join(preprocess_text(text1))\n",
    "    text2 = \" \".join(preprocess_text(text2))\n",
    "    vectorizer = TfidfVectorizer().fit([text1, text2])\n",
    "    vectors = vectorizer.transform([text1, text2])\n",
    "    return cosine_similarity(vectors[0], vectors[1])[0][0]\n",
    "\n",
    "\n",
    "# Функция для вычисления сходства с использованием Word2Vec\n",
    "def word2vec_similarity(text1, text2):\n",
    "    model = word2vec_model\n",
    "\n",
    "    vector1 = [model[word] for word in text1.split() if word in model]\n",
    "    vector2 = [model[word] for word in text2.split() if word in model]\n",
    "    if len(vector1) == 0 or len(vector2) == 0:\n",
    "        return 0\n",
    "\n",
    "    return cosine_similarity([np.mean(vector1, axis=0)], [np.mean(vector2, axis=0)])[0][\n",
    "        0\n",
    "    ]\n",
    "\n",
    "# Функция для вычисления сходства с использованием FastText\n",
    "def fasttext_similarity(text1, text2):\n",
    "    model = fasttext_model\n",
    "    vector1 = [model[word] for word in text1.split() if word in model]\n",
    "    vector2 = [model[word] for word in text2.split() if word in model]\n",
    "    if len(vector1) == 0 or len(vector2) == 0:\n",
    "        return 0\n",
    "\n",
    "    return cosine_similarity([np.mean(vector1, axis=0)], [np.mean(vector2, axis=0)])[0][\n",
    "        0\n",
    "    ]\n",
    "\n",
    "\n",
    "# Функция для вычисления сходства с использованием FastText\n",
    "def glove_similarity(text1, text2):\n",
    "    model = glove_model\n",
    "    vector1 = [model[word] for word in text1.split() if word in model]\n",
    "    vector2 = [model[word] for word in text2.split() if word in model]\n",
    "    if len(vector1) == 0 or len(vector2) == 0:\n",
    "        return 0\n",
    "\n",
    "    return cosine_similarity([np.mean(vector1, axis=0)], [np.mean(vector2, axis=0)])[0][0]\n",
    "\n",
    "\n",
    "\n",
    "# Функция для вычисления сходства с использованием BERT\n",
    "def bert_similarity(text1, text2):\n",
    "    tokenizer = bert_tokenizer\n",
    "    model = bert_model.to(device)\n",
    "    inputs1 = tokenizer(text1, return_tensors=\"pt\", truncation=True, padding=True).to(\n",
    "        device\n",
    "    )\n",
    "    inputs2 = tokenizer(text2, return_tensors=\"pt\", truncation=True, padding=True).to(\n",
    "        device\n",
    "    )\n",
    "    with torch.no_grad():\n",
    "        outputs1 = model(**inputs1).last_hidden_state.mean(dim=1)\n",
    "        outputs2 = model(**inputs2).last_hidden_state.mean(dim=1)\n",
    "    return cosine_similarity(outputs1.cpu().numpy(), outputs2.cpu().numpy())[0][0]\n",
    "\n",
    "\n",
    "# Функция для вычисления сходства с использованием Universal Sentence Encoder (USE)\n",
    "def use_similarity(text1, text2):\n",
    "    model = use_model\n",
    "    embeddings = model([text1, text2])\n",
    "    return cosine_similarity([embeddings[0]], [embeddings[1]])[0][0]\n",
    "\n",
    "\n",
    "# Функция для вычисления сходства с использованием Jaccard Similarity\n",
    "def jaccard_similarity(text1, text2):\n",
    "    set1 = set(text1.split())\n",
    "    set2 = set(text2.split())\n",
    "    intersection = len(set1.intersection(set2))\n",
    "    union = len(set1.union(set2))\n",
    "    return intersection / union\n",
    "\n",
    "\n",
    "# Функция для вычисления сходства с использованием Levenshtein Distance\n",
    "def levenshtein_similarity(text1, text2):\n",
    "    return ratio(text1, text2)\n",
    "\n",
    "\n",
    "# Функция для вычисления сходства с использованием RoBERTa\n",
    "def roberta_similarity(text1, text2):\n",
    "    tokenizer = roberta_tokenizer\n",
    "    model = roberta_model.to(device)\n",
    "    inputs1 = tokenizer(text1, return_tensors=\"pt\", truncation=True, padding=True).to(\n",
    "        device\n",
    "    )\n",
    "    inputs2 = tokenizer(text2, return_tensors=\"pt\", truncation=True, padding=True).to(\n",
    "        device\n",
    "    )\n",
    "    with torch.no_grad():\n",
    "        outputs1 = model(**inputs1).last_hidden_state.mean(dim=1)\n",
    "        outputs2 = model(**inputs2).last_hidden_state.mean(dim=1)\n",
    "    return cosine_similarity(outputs1.cpu().numpy(), outputs2.cpu().numpy())[0][0]\n",
    "\n",
    "\n",
    "# Функция для вычисления сходства с использованием UniSim\n",
    "def unisim_similarity(text1, text2):\n",
    "    text_sim = TextSim(store_data=False)\n",
    "    return text_sim.similarity(text1, text2)\n",
    "\n",
    "\n",
    "# Функция для сравнения двух текстов с использованием заданных методов\n",
    "def compare_texts(text1, text2, methods):\n",
    "    results = {}\n",
    "    for name, func in methods.items():\n",
    "        try:\n",
    "            results[name] = func(text1, text2)\n",
    "        except Exception as e:\n",
    "            results[name] = f\"Error: {str(e)}\"\n",
    "\n",
    "    results_df = pd.DataFrame(results).T\n",
    "    results_df.columns = [\"similarity\", \"time_ms\"]\n",
    "\n",
    "    return results_df\n",
    "\n",
    "\n",
    "def measure_time(func):\n",
    "    @wraps(func)\n",
    "    def wrapper(*args, **kwargs):\n",
    "        start_time = time.time()\n",
    "        result = func(*args, **kwargs)\n",
    "        end_time = time.time()\n",
    "        execution_time = end_time - start_time\n",
    "        return result, execution_time\n",
    "\n",
    "    return wrapper\n",
    "\n",
    "\n",
    "similarity_functions = {\n",
    "    \"MinHash\": measure_time(minhash_similarity),\n",
    "    \"SimHash\": measure_time(simhash_similarity),\n",
    "    \"Sentence Transformers\": measure_time(sentence_transformers_similarity),\n",
    "    \"Count Vectorizer\": measure_time(count_vectorizer_similarity),\n",
    "    \"Tfidf Vectorizer\": measure_time(tfidf_vectorizer_similarity),\n",
    "    \"Word2Vec\": measure_time(word2vec_similarity),\n",
    "    \"GLoVe\": measure_time(glove_similarity),\n",
    "    \"FastText\": measure_time(fasttext_similarity),\n",
    "    \"BERT\": measure_time(bert_similarity),\n",
    "    # \"USE\": measure_time(use_similarity),\n",
    "    \"Jaccard\": measure_time(jaccard_similarity),\n",
    "    \"Levenshtein\": measure_time(levenshtein_similarity),\n",
    "    \"RoBERTa\": measure_time(roberta_similarity),\n",
    "    \"UniSim\": measure_time(unisim_similarity),\n",
    "}"
   ]
  },
  {
   "cell_type": "code",
   "execution_count": null,
   "metadata": {},
   "outputs": [],
   "source": [
    "import pandas as pd\n",
    "import numpy as np\n",
    "import plotly.express as px\n",
    "from tqdm.notebook import tqdm\n",
    "\n",
    "df = pd.read_csv('./data/pub2-noise/input/source_texts.csv')\n",
    "\n",
    "n = 10\n",
    "\n",
    "comparison_methods = similarity_functions\n",
    "\n",
    "results = []\n",
    "\n",
    "for size, group in tqdm(df.groupby('size')):\n",
    "    texts = group['text'].tolist()\n",
    "    if len(texts) < 2:\n",
    "        print(\"Not enough texts to compare.\")\n",
    "        continue\n",
    "\n",
    "    if len(texts) < 2 * n:\n",
    "        print(f\"Not enough texts to compare {n} pairs. Available texts: {len(texts)}\")\n",
    "        continue\n",
    "\n",
    "    similarity_results = {method_name: [] for method_name in comparison_methods.keys()}\n",
    "\n",
    "    for i in range(n):\n",
    "        text1, text2 = texts[2 * i], texts[2 * i + 1]\n",
    "\n",
    "        for method_name, method_func in comparison_methods.items():\n",
    "            similarity, _ = method_func(text1, text2)\n",
    "            similarity_results[method_name].append(similarity)\n",
    "\n",
    "    for method_name, similarities in similarity_results.items():\n",
    "        avg_similarity = np.mean(similarities)\n",
    "        results.append({\n",
    "            \"Size\": size,\n",
    "            \"Method\": method_name,\n",
    "            \"Average Similarity\": avg_similarity\n",
    "        })\n",
    "\n",
    "results_df = pd.DataFrame(results)\n",
    "\n",
    "fig = px.line(\n",
    "    results_df,\n",
    "    x=\"Size\",\n",
    "    y=\"Average Similarity\",\n",
    "    color=\"Method\",\n",
    "    title=\"Average Similarity by Text Size and Method\",\n",
    "    labels={\"Size\": \"Text Size\", \"Average Similarity\": \"Average Similarity Score\"},\n",
    "    markers=True\n",
    ")\n",
    "\n",
    "fig.update_layout(\n",
    "    xaxis_title=\"Text Size\",\n",
    "    yaxis_title=\"Average Similarity Score\",\n",
    "    legend_title=\"Method\",\n",
    "    template=\"plotly_white\"\n",
    ")\n",
    "\n",
    "fig.show()"
   ]
  },
  {
   "cell_type": "code",
   "execution_count": 16,
   "metadata": {},
   "outputs": [
    {
     "data": {
      "application/vnd.jupyter.widget-view+json": {
       "model_id": "b288b0aa84994d4598f3fca17c52c113",
       "version_major": 2,
       "version_minor": 0
      },
      "text/plain": [
       "Similarity Methods:   0%|          | 0/1 [00:00<?, ?it/s]"
      ]
     },
     "metadata": {},
     "output_type": "display_data"
    },
    {
     "data": {
      "application/vnd.jupyter.widget-view+json": {
       "model_id": "f0e31181493f41f59413af9f7645909b",
       "version_major": 2,
       "version_minor": 0
      },
      "text/plain": [
       "Processing MinHash:   0%|          | 0/247 [00:00<?, ?it/s]"
      ]
     },
     "metadata": {},
     "output_type": "display_data"
    },
    {
     "name": "stdout",
     "output_type": "stream",
     "text": [
      "Results for MinHash saved to comparison_results_MinHash.csv.\n"
     ]
    }
   ],
   "source": [
    "import pandas as pd\n",
    "from tqdm.notebook import tqdm\n",
    "\n",
    "data = pd.read_csv('augmented_texts.csv')\n",
    "\n",
    "reference_texts = data[data['method'].isna()].reset_index(drop=True)['text']\n",
    "modified_texts = data[data['method'].notna()]\n",
    "\n",
    "methods = {\n",
    "    \"MinHash\": measure_time(minhash_similarity),\n",
    "    # \"SimHash\": measure_time(simhash_similarity),\n",
    "    # \"Sentence Transformers\": measure_time(sentence_transformers_similarity),\n",
    "    # \"Count Vectorizer\": measure_time(count_vectorizer_similarity),\n",
    "    # \"Tfidf Vectorizer\": measure_time(tfidf_vectorizer_similarity),\n",
    "    # \"Word2Vec\": measure_time(word2vec_similarity),\n",
    "    # \"GLoVe\": measure_time(glove_similarity),\n",
    "    # \"FastText\": measure_time(fasttext_similarity),\n",
    "    # \"BERT\": measure_time(bert_similarity),\n",
    "    # \"USE\": measure_time(use_similarity),\n",
    "    # \"Jaccard\": measure_time(jaccard_similarity),\n",
    "    # \"Levenshtein\": measure_time(levenshtein_similarity),\n",
    "    # \"RoBERTa\": measure_time(roberta_similarity),\n",
    "    # \"UniSim\": measure_time(unisim_similarity),\n",
    "}\n",
    "\n",
    "results = []\n",
    "\n",
    "grouped = modified_texts.groupby(['method', 'rate'])\n",
    "\n",
    "for method_name, similarity_function in tqdm(methods.items(), desc=\"Similarity Methods\"):\n",
    "    current_results = []\n",
    "    \n",
    "    for (method, rate), group in tqdm(grouped, desc=f\"Processing {method_name}\"):\n",
    "        for idx, row in group.reset_index(drop=True).iterrows():\n",
    "            modified_text = row['text']\n",
    "            reference_text = reference_texts[idx]\n",
    "            \n",
    "            similarity, comparison_time = similarity_function(reference_text, modified_text)\n",
    "            \n",
    "            current_results.append({\n",
    "                'size': row['size'],\n",
    "                'comparison_method': method_name,\n",
    "                'augmentation_method': method,\n",
    "                'rate': rate,\n",
    "                'time': comparison_time,\n",
    "                'similarity': similarity\n",
    "            })\n",
    "    \n",
    "    current_results_df = pd.DataFrame(current_results)\n",
    "\n",
    "    output_file = f\"comparison_results_{method_name}.csv\"\n",
    "    current_results_df.to_csv(output_file, index=False)\n",
    "\n",
    "    print(f\"Results for {method_name} saved to {output_file}.\")"
   ]
  },
  {
   "cell_type": "code",
   "execution_count": null,
   "metadata": {},
   "outputs": [],
   "source": [
    "import pandas as pd\n",
    "import glob\n",
    "\n",
    "\n",
    "file_pattern = 'comparison_results_*.csv'\n",
    "files = glob.glob(file_pattern)\n",
    "\n",
    "combined_df = pd.DataFrame()\n",
    "\n",
    "for file in files:\n",
    "    df = pd.read_csv(file)\n",
    "    combined_df = pd.concat([combined_df, df], ignore_index=True)\n",
    "\n",
    "combined_df.to_csv('comparison_results.csv', index=False)"
   ]
  },
  {
   "cell_type": "code",
   "execution_count": null,
   "metadata": {},
   "outputs": [],
   "source": [
    "import plotly.express as px\n",
    "import pandas as pd\n",
    "\n",
    "df = pd.read_csv('./data/pub2-noise/output/comparison_results.csv')\n",
    "\n",
    "df['prefix'] = df['augmentation_method'].apply(lambda x: x.split('_')[0])\n",
    "\n",
    "fig = px.box(\n",
    "    df, \n",
    "    x='prefix', \n",
    "    y='similarity', \n",
    "    color='prefix',\n",
    "    title='Similarity distribution',\n",
    "    labels={'prefix': 'noise type', 'similarity': 'similarity'}\n",
    ")\n",
    "\n",
    "fig.show()"
   ]
  },
  {
   "cell_type": "code",
   "execution_count": null,
   "metadata": {},
   "outputs": [],
   "source": [
    "import plotly.express as px\n",
    "import pandas as pd\n",
    "\n",
    "df = pd.read_csv('./data/pub2-noise/output/comparison_results.csv')\n",
    "df['prefix'] = df['augmentation_method'].apply(lambda x: x.split('_')[0])\n",
    "\n",
    "comparison_methods = df['comparison_method'].unique()\n",
    "\n",
    "for method in comparison_methods:\n",
    "    method_data = df[df['comparison_method'] == method]\n",
    "    \n",
    "    fig = px.box(\n",
    "        method_data, \n",
    "        x='prefix', \n",
    "        y='similarity', \n",
    "        color='prefix',\n",
    "        title=f'Similarity distribution: {method}',\n",
    "        labels={'prefix': 'noize type', 'similarity': 'similarity'}\n",
    "    )\n",
    "    fig.show()"
   ]
  },
  {
   "cell_type": "code",
   "execution_count": null,
   "metadata": {},
   "outputs": [],
   "source": [
    "import pandas as pd\n",
    "import plotly.express as px\n",
    "\n",
    "df = pd.read_csv('./data/pub2-noise/output/comparison_results.csv')\n",
    "\n",
    "new_rows = []\n",
    "for comparison_method in df['comparison_method'].unique():\n",
    "    for size in df['size'].unique():\n",
    "        for augmentation_method in df['augmentation_method'].unique():\n",
    "            new_rows.append({\n",
    "                'comparison_method': comparison_method,\n",
    "                'size': size,\n",
    "                'augmentation_method': augmentation_method,\n",
    "                'rate': 0,\n",
    "                'similarity': 1\n",
    "            })\n",
    "\n",
    "new_df = pd.DataFrame(new_rows)\n",
    "\n",
    "df = pd.concat([df, new_df], ignore_index=True)\n",
    "\n",
    "agg_data = df.groupby(['comparison_method', 'size', 'augmentation_method', 'rate'], as_index=False)['similarity'].mean()\n",
    "\n",
    "augmentation_methods = agg_data['augmentation_method'].unique()\n",
    "sizes = agg_data['size'].unique()\n",
    "\n",
    "for size in sizes:\n",
    "    for aug_method in augmentation_methods:\n",
    "        filtered_data = agg_data[(agg_data['augmentation_method'] == aug_method) & (agg_data['size'] == size)]\n",
    "        \n",
    "        fig = px.line(filtered_data, x='rate', y='similarity', color='comparison_method',\n",
    "                      title=f'Similarity vs Noise Level (rate) for Augmentation Method: {aug_method}, Text Size: {size}',\n",
    "                      labels={'rate': 'Noise Level (rate)', 'similarity': 'Similarity', \n",
    "                              'comparison_method': 'Comparison Method'})\n",
    "        fig.show()"
   ]
  },
  {
   "cell_type": "code",
   "execution_count": null,
   "metadata": {},
   "outputs": [],
   "source": [
    "import plotly.graph_objects as go\n",
    "import pandas as pd\n",
    "import numpy as np\n",
    "\n",
    "df = pd.read_csv('./data/pub2-noise/output/comparison_results.csv')\n",
    "\n",
    "df['prefix'] = df['augmentation_method'].apply(lambda x: x.split('_')[0])\n",
    "\n",
    "prefixes = df['prefix'].unique()\n",
    "comparison_methods = df['comparison_method'].unique()\n",
    "\n",
    "for prefix in prefixes:\n",
    "    for comp_method in comparison_methods:\n",
    "        filtered_data = df[(df['prefix'] == prefix) & \n",
    "                           (df['comparison_method'] == comp_method)]\n",
    "        \n",
    "        grouped_data = filtered_data.groupby(['size', 'rate'], as_index=False)['similarity'].mean()\n",
    "        \n",
    "        heatmap_data = grouped_data.pivot_table(index='size', columns='rate', values='similarity')\n",
    "        \n",
    "        y_values = heatmap_data.index\n",
    "        y_tickvals = np.arange(len(y_values))\n",
    "        \n",
    "        fig = go.Figure(data=go.Heatmap(\n",
    "            z=heatmap_data.values,\n",
    "            x=heatmap_data.columns,\n",
    "            y=y_tickvals, \n",
    "            colorscale='Viridis',\n",
    "            colorbar=dict(title='Similarity'),\n",
    "            zmin=0,\n",
    "            zmax=1,\n",
    "            hoverongaps=False,\n",
    "            text=heatmap_data.values.round(2), \n",
    "            texttemplate=\"%{text}\",\n",
    "            xgap=1, \n",
    "            ygap=1, \n",
    "        ))\n",
    "        \n",
    "        fig.update_layout(\n",
    "            title=f'Heatmap: Similarity by Noise Level (rate) and Text Size (size)<br>Prefix: {prefix}, Comparison Method: {comp_method}',\n",
    "            xaxis_title='Noise Level (rate)',\n",
    "            yaxis_title='Text Size (size)',\n",
    "            xaxis=dict(tickangle=45, tickmode='array', tickvals=heatmap_data.columns, ticktext=heatmap_data.columns),\n",
    "            yaxis=dict(\n",
    "                tickmode='array',\n",
    "                tickvals=y_tickvals, \n",
    "                ticktext=y_values, \n",
    "            ),\n",
    "            autosize=False,\n",
    "            width=800,\n",
    "            height=600,\n",
    "        )\n",
    "        \n",
    "        fig.update_xaxes(tickangle=45)\n",
    "        \n",
    "        fig.show()"
   ]
  },
  {
   "cell_type": "code",
   "execution_count": 33,
   "metadata": {},
   "outputs": [
    {
     "data": {
      "application/vnd.plotly.v1+json": {
       "config": {
        "plotlyServerURL": "https://plot.ly"
       },
       "data": [
        {
         "colorbar": {
          "title": {
           "text": "Similarity"
          }
         },
         "colorscale": [
          [
           0,
           "#440154"
          ],
          [
           0.1111111111111111,
           "#482878"
          ],
          [
           0.2222222222222222,
           "#3e4989"
          ],
          [
           0.3333333333333333,
           "#31688e"
          ],
          [
           0.4444444444444444,
           "#26828e"
          ],
          [
           0.5555555555555556,
           "#1f9e89"
          ],
          [
           0.6666666666666666,
           "#35b779"
          ],
          [
           0.7777777777777778,
           "#6ece58"
          ],
          [
           0.8888888888888888,
           "#b5de2b"
          ],
          [
           1,
           "#fde725"
          ]
         ],
         "hoverongaps": false,
         "text": {
          "bdata": "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",
          "dtype": "f8",
          "shape": "108, 20"
         },
         "texttemplate": "%{text}",
         "type": "heatmap",
         "x": {
          "bdata": "AAAAAAAAAACamZmZmZmpP5qZmZmZmbk/MzMzMzMzwz+amZmZmZnJPwAAAAAAANA/MzMzMzMz0z9mZmZmZmbWP5qZmZmZmdk/zczMzMzM3D8AAAAAAADgP5qZmZmZmeE/MzMzMzMz4z/NzMzMzMzkP2ZmZmZmZuY/AAAAAAAA6D+amZmZmZnpPzMzMzMzM+s/zczMzMzM7D9mZmZmZmbuPw==",
          "dtype": "f8"
         },
         "xgap": 1,
         "y": {
          "bdata": "AAECAwQFBgcICQoLDA0ODxAREhMUFRYXGBkaGxwdHh8gISIjJCUmJygpKissLS4vMDEyMzQ1Njc4OTo7PD0+P0BBQkNERUZHSElKS0xNTk9QUVJTVFVWV1hZWltcXV5fYGFiY2RlZmdoaWpr",
          "dtype": "i1"
         },
         "ygap": 1,
         "z": {
          "bdata": "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",
          "dtype": "f8",
          "shape": "108, 20"
         },
         "zmax": 1,
         "zmin": 0
        }
       ],
       "layout": {
        "autosize": false,
        "height": 6400,
        "template": {
         "data": {
          "bar": [
           {
            "error_x": {
             "color": "#2a3f5f"
            },
            "error_y": {
             "color": "#2a3f5f"
            },
            "marker": {
             "line": {
              "color": "#E5ECF6",
              "width": 0.5
             },
             "pattern": {
              "fillmode": "overlay",
              "size": 10,
              "solidity": 0.2
             }
            },
            "type": "bar"
           }
          ],
          "barpolar": [
           {
            "marker": {
             "line": {
              "color": "#E5ECF6",
              "width": 0.5
             },
             "pattern": {
              "fillmode": "overlay",
              "size": 10,
              "solidity": 0.2
             }
            },
            "type": "barpolar"
           }
          ],
          "carpet": [
           {
            "aaxis": {
             "endlinecolor": "#2a3f5f",
             "gridcolor": "white",
             "linecolor": "white",
             "minorgridcolor": "white",
             "startlinecolor": "#2a3f5f"
            },
            "baxis": {
             "endlinecolor": "#2a3f5f",
             "gridcolor": "white",
             "linecolor": "white",
             "minorgridcolor": "white",
             "startlinecolor": "#2a3f5f"
            },
            "type": "carpet"
           }
          ],
          "choropleth": [
           {
            "colorbar": {
             "outlinewidth": 0,
             "ticks": ""
            },
            "type": "choropleth"
           }
          ],
          "contour": [
           {
            "colorbar": {
             "outlinewidth": 0,
             "ticks": ""
            },
            "colorscale": [
             [
              0,
              "#0d0887"
             ],
             [
              0.1111111111111111,
              "#46039f"
             ],
             [
              0.2222222222222222,
              "#7201a8"
             ],
             [
              0.3333333333333333,
              "#9c179e"
             ],
             [
              0.4444444444444444,
              "#bd3786"
             ],
             [
              0.5555555555555556,
              "#d8576b"
             ],
             [
              0.6666666666666666,
              "#ed7953"
             ],
             [
              0.7777777777777778,
              "#fb9f3a"
             ],
             [
              0.8888888888888888,
              "#fdca26"
             ],
             [
              1,
              "#f0f921"
             ]
            ],
            "type": "contour"
           }
          ],
          "contourcarpet": [
           {
            "colorbar": {
             "outlinewidth": 0,
             "ticks": ""
            },
            "type": "contourcarpet"
           }
          ],
          "heatmap": [
           {
            "colorbar": {
             "outlinewidth": 0,
             "ticks": ""
            },
            "colorscale": [
             [
              0,
              "#0d0887"
             ],
             [
              0.1111111111111111,
              "#46039f"
             ],
             [
              0.2222222222222222,
              "#7201a8"
             ],
             [
              0.3333333333333333,
              "#9c179e"
             ],
             [
              0.4444444444444444,
              "#bd3786"
             ],
             [
              0.5555555555555556,
              "#d8576b"
             ],
             [
              0.6666666666666666,
              "#ed7953"
             ],
             [
              0.7777777777777778,
              "#fb9f3a"
             ],
             [
              0.8888888888888888,
              "#fdca26"
             ],
             [
              1,
              "#f0f921"
             ]
            ],
            "type": "heatmap"
           }
          ],
          "histogram": [
           {
            "marker": {
             "pattern": {
              "fillmode": "overlay",
              "size": 10,
              "solidity": 0.2
             }
            },
            "type": "histogram"
           }
          ],
          "histogram2d": [
           {
            "colorbar": {
             "outlinewidth": 0,
             "ticks": ""
            },
            "colorscale": [
             [
              0,
              "#0d0887"
             ],
             [
              0.1111111111111111,
              "#46039f"
             ],
             [
              0.2222222222222222,
              "#7201a8"
             ],
             [
              0.3333333333333333,
              "#9c179e"
             ],
             [
              0.4444444444444444,
              "#bd3786"
             ],
             [
              0.5555555555555556,
              "#d8576b"
             ],
             [
              0.6666666666666666,
              "#ed7953"
             ],
             [
              0.7777777777777778,
              "#fb9f3a"
             ],
             [
              0.8888888888888888,
              "#fdca26"
             ],
             [
              1,
              "#f0f921"
             ]
            ],
            "type": "histogram2d"
           }
          ],
          "histogram2dcontour": [
           {
            "colorbar": {
             "outlinewidth": 0,
             "ticks": ""
            },
            "colorscale": [
             [
              0,
              "#0d0887"
             ],
             [
              0.1111111111111111,
              "#46039f"
             ],
             [
              0.2222222222222222,
              "#7201a8"
             ],
             [
              0.3333333333333333,
              "#9c179e"
             ],
             [
              0.4444444444444444,
              "#bd3786"
             ],
             [
              0.5555555555555556,
              "#d8576b"
             ],
             [
              0.6666666666666666,
              "#ed7953"
             ],
             [
              0.7777777777777778,
              "#fb9f3a"
             ],
             [
              0.8888888888888888,
              "#fdca26"
             ],
             [
              1,
              "#f0f921"
             ]
            ],
            "type": "histogram2dcontour"
           }
          ],
          "mesh3d": [
           {
            "colorbar": {
             "outlinewidth": 0,
             "ticks": ""
            },
            "type": "mesh3d"
           }
          ],
          "parcoords": [
           {
            "line": {
             "colorbar": {
              "outlinewidth": 0,
              "ticks": ""
             }
            },
            "type": "parcoords"
           }
          ],
          "pie": [
           {
            "automargin": true,
            "type": "pie"
           }
          ],
          "scatter": [
           {
            "fillpattern": {
             "fillmode": "overlay",
             "size": 10,
             "solidity": 0.2
            },
            "type": "scatter"
           }
          ],
          "scatter3d": [
           {
            "line": {
             "colorbar": {
              "outlinewidth": 0,
              "ticks": ""
             }
            },
            "marker": {
             "colorbar": {
              "outlinewidth": 0,
              "ticks": ""
             }
            },
            "type": "scatter3d"
           }
          ],
          "scattercarpet": [
           {
            "marker": {
             "colorbar": {
              "outlinewidth": 0,
              "ticks": ""
             }
            },
            "type": "scattercarpet"
           }
          ],
          "scattergeo": [
           {
            "marker": {
             "colorbar": {
              "outlinewidth": 0,
              "ticks": ""
             }
            },
            "type": "scattergeo"
           }
          ],
          "scattergl": [
           {
            "marker": {
             "colorbar": {
              "outlinewidth": 0,
              "ticks": ""
             }
            },
            "type": "scattergl"
           }
          ],
          "scattermap": [
           {
            "marker": {
             "colorbar": {
              "outlinewidth": 0,
              "ticks": ""
             }
            },
            "type": "scattermap"
           }
          ],
          "scattermapbox": [
           {
            "marker": {
             "colorbar": {
              "outlinewidth": 0,
              "ticks": ""
             }
            },
            "type": "scattermapbox"
           }
          ],
          "scatterpolar": [
           {
            "marker": {
             "colorbar": {
              "outlinewidth": 0,
              "ticks": ""
             }
            },
            "type": "scatterpolar"
           }
          ],
          "scatterpolargl": [
           {
            "marker": {
             "colorbar": {
              "outlinewidth": 0,
              "ticks": ""
             }
            },
            "type": "scatterpolargl"
           }
          ],
          "scatterternary": [
           {
            "marker": {
             "colorbar": {
              "outlinewidth": 0,
              "ticks": ""
             }
            },
            "type": "scatterternary"
           }
          ],
          "surface": [
           {
            "colorbar": {
             "outlinewidth": 0,
             "ticks": ""
            },
            "colorscale": [
             [
              0,
              "#0d0887"
             ],
             [
              0.1111111111111111,
              "#46039f"
             ],
             [
              0.2222222222222222,
              "#7201a8"
             ],
             [
              0.3333333333333333,
              "#9c179e"
             ],
             [
              0.4444444444444444,
              "#bd3786"
             ],
             [
              0.5555555555555556,
              "#d8576b"
             ],
             [
              0.6666666666666666,
              "#ed7953"
             ],
             [
              0.7777777777777778,
              "#fb9f3a"
             ],
             [
              0.8888888888888888,
              "#fdca26"
             ],
             [
              1,
              "#f0f921"
             ]
            ],
            "type": "surface"
           }
          ],
          "table": [
           {
            "cells": {
             "fill": {
              "color": "#EBF0F8"
             },
             "line": {
              "color": "white"
             }
            },
            "header": {
             "fill": {
              "color": "#C8D4E3"
             },
             "line": {
              "color": "white"
             }
            },
            "type": "table"
           }
          ]
         },
         "layout": {
          "annotationdefaults": {
           "arrowcolor": "#2a3f5f",
           "arrowhead": 0,
           "arrowwidth": 1
          },
          "autotypenumbers": "strict",
          "coloraxis": {
           "colorbar": {
            "outlinewidth": 0,
            "ticks": ""
           }
          },
          "colorscale": {
           "diverging": [
            [
             0,
             "#8e0152"
            ],
            [
             0.1,
             "#c51b7d"
            ],
            [
             0.2,
             "#de77ae"
            ],
            [
             0.3,
             "#f1b6da"
            ],
            [
             0.4,
             "#fde0ef"
            ],
            [
             0.5,
             "#f7f7f7"
            ],
            [
             0.6,
             "#e6f5d0"
            ],
            [
             0.7,
             "#b8e186"
            ],
            [
             0.8,
             "#7fbc41"
            ],
            [
             0.9,
             "#4d9221"
            ],
            [
             1,
             "#276419"
            ]
           ],
           "sequential": [
            [
             0,
             "#0d0887"
            ],
            [
             0.1111111111111111,
             "#46039f"
            ],
            [
             0.2222222222222222,
             "#7201a8"
            ],
            [
             0.3333333333333333,
             "#9c179e"
            ],
            [
             0.4444444444444444,
             "#bd3786"
            ],
            [
             0.5555555555555556,
             "#d8576b"
            ],
            [
             0.6666666666666666,
             "#ed7953"
            ],
            [
             0.7777777777777778,
             "#fb9f3a"
            ],
            [
             0.8888888888888888,
             "#fdca26"
            ],
            [
             1,
             "#f0f921"
            ]
           ],
           "sequentialminus": [
            [
             0,
             "#0d0887"
            ],
            [
             0.1111111111111111,
             "#46039f"
            ],
            [
             0.2222222222222222,
             "#7201a8"
            ],
            [
             0.3333333333333333,
             "#9c179e"
            ],
            [
             0.4444444444444444,
             "#bd3786"
            ],
            [
             0.5555555555555556,
             "#d8576b"
            ],
            [
             0.6666666666666666,
             "#ed7953"
            ],
            [
             0.7777777777777778,
             "#fb9f3a"
            ],
            [
             0.8888888888888888,
             "#fdca26"
            ],
            [
             1,
             "#f0f921"
            ]
           ]
          },
          "colorway": [
           "#636efa",
           "#EF553B",
           "#00cc96",
           "#ab63fa",
           "#FFA15A",
           "#19d3f3",
           "#FF6692",
           "#B6E880",
           "#FF97FF",
           "#FECB52"
          ],
          "font": {
           "color": "#2a3f5f"
          },
          "geo": {
           "bgcolor": "white",
           "lakecolor": "white",
           "landcolor": "#E5ECF6",
           "showlakes": true,
           "showland": true,
           "subunitcolor": "white"
          },
          "hoverlabel": {
           "align": "left"
          },
          "hovermode": "closest",
          "mapbox": {
           "style": "light"
          },
          "paper_bgcolor": "white",
          "plot_bgcolor": "#E5ECF6",
          "polar": {
           "angularaxis": {
            "gridcolor": "white",
            "linecolor": "white",
            "ticks": ""
           },
           "bgcolor": "#E5ECF6",
           "radialaxis": {
            "gridcolor": "white",
            "linecolor": "white",
            "ticks": ""
           }
          },
          "scene": {
           "xaxis": {
            "backgroundcolor": "#E5ECF6",
            "gridcolor": "white",
            "gridwidth": 2,
            "linecolor": "white",
            "showbackground": true,
            "ticks": "",
            "zerolinecolor": "white"
           },
           "yaxis": {
            "backgroundcolor": "#E5ECF6",
            "gridcolor": "white",
            "gridwidth": 2,
            "linecolor": "white",
            "showbackground": true,
            "ticks": "",
            "zerolinecolor": "white"
           },
           "zaxis": {
            "backgroundcolor": "#E5ECF6",
            "gridcolor": "white",
            "gridwidth": 2,
            "linecolor": "white",
            "showbackground": true,
            "ticks": "",
            "zerolinecolor": "white"
           }
          },
          "shapedefaults": {
           "line": {
            "color": "#2a3f5f"
           }
          },
          "ternary": {
           "aaxis": {
            "gridcolor": "white",
            "linecolor": "white",
            "ticks": ""
           },
           "baxis": {
            "gridcolor": "white",
            "linecolor": "white",
            "ticks": ""
           },
           "bgcolor": "#E5ECF6",
           "caxis": {
            "gridcolor": "white",
            "linecolor": "white",
            "ticks": ""
           }
          },
          "title": {
           "x": 0.05
          },
          "xaxis": {
           "automargin": true,
           "gridcolor": "white",
           "linecolor": "white",
           "ticks": "",
           "title": {
            "standoff": 15
           },
           "zerolinecolor": "white",
           "zerolinewidth": 2
          },
          "yaxis": {
           "automargin": true,
           "gridcolor": "white",
           "linecolor": "white",
           "ticks": "",
           "title": {
            "standoff": 15
           },
           "zerolinecolor": "white",
           "zerolinewidth": 2
          }
         }
        },
        "title": {
         "text": "Similarity by Noise Level, Text Size, and Comparison Method"
        },
        "width": 1200,
        "xaxis": {
         "tickangle": 45,
         "tickmode": "array",
         "ticktext": {
          "bdata": "AAAAAAAAAACamZmZmZmpP5qZmZmZmbk/MzMzMzMzwz+amZmZmZnJPwAAAAAAANA/MzMzMzMz0z9mZmZmZmbWP5qZmZmZmdk/zczMzMzM3D8AAAAAAADgP5qZmZmZmeE/MzMzMzMz4z/NzMzMzMzkP2ZmZmZmZuY/AAAAAAAA6D+amZmZmZnpPzMzMzMzM+s/zczMzMzM7D9mZmZmZmbuPw==",
          "dtype": "f8"
         },
         "tickvals": {
          "bdata": "AAAAAAAAAACamZmZmZmpP5qZmZmZmbk/MzMzMzMzwz+amZmZmZnJPwAAAAAAANA/MzMzMzMz0z9mZmZmZmbWP5qZmZmZmdk/zczMzMzM3D8AAAAAAADgP5qZmZmZmeE/MzMzMzMz4z/NzMzMzMzkP2ZmZmZmZuY/AAAAAAAA6D+amZmZmZnpPzMzMzMzM+s/zczMzMzM7D9mZmZmZmbuPw==",
          "dtype": "f8"
         },
         "title": {
          "text": "Noise Level"
         }
        },
        "yaxis": {
         "tickmode": "array",
         "ticktext": [
          "3-shingle MinHash, 100",
          "3-shingle MinHash, 250",
          "3-shingle MinHash, 500",
          "3-shingle MinHash, 750",
          "3-shingle MinHash, 1000",
          "3-shingle MinHash, 2000",
          "BERT, 100",
          "BERT, 250",
          "BERT, 500",
          "BERT, 750",
          "BERT, 1000",
          "BERT, 2000",
          "Count Vectorizer, 100",
          "Count Vectorizer, 250",
          "Count Vectorizer, 500",
          "Count Vectorizer, 750",
          "Count Vectorizer, 1000",
          "Count Vectorizer, 2000",
          "FastText, 100",
          "FastText, 250",
          "FastText, 500",
          "FastText, 750",
          "FastText, 1000",
          "FastText, 2000",
          "GLoVe, 100",
          "GLoVe, 250",
          "GLoVe, 500",
          "GLoVe, 750",
          "GLoVe, 1000",
          "GLoVe, 2000",
          "Jaccard, 100",
          "Jaccard, 250",
          "Jaccard, 500",
          "Jaccard, 750",
          "Jaccard, 1000",
          "Jaccard, 2000",
          "Levenshtein, 100",
          "Levenshtein, 250",
          "Levenshtein, 500",
          "Levenshtein, 750",
          "Levenshtein, 1000",
          "Levenshtein, 2000",
          "MinHash, 100",
          "MinHash, 250",
          "MinHash, 500",
          "MinHash, 750",
          "MinHash, 1000",
          "MinHash, 2000",
          "Processed Count Vectorizer, 100",
          "Processed Count Vectorizer, 250",
          "Processed Count Vectorizer, 500",
          "Processed Count Vectorizer, 750",
          "Processed Count Vectorizer, 1000",
          "Processed Count Vectorizer, 2000",
          "Processed SimHash, 100",
          "Processed SimHash, 250",
          "Processed SimHash, 500",
          "Processed SimHash, 750",
          "Processed SimHash, 1000",
          "Processed SimHash, 2000",
          "Processed Tfidf Vectorizer, 100",
          "Processed Tfidf Vectorizer, 250",
          "Processed Tfidf Vectorizer, 500",
          "Processed Tfidf Vectorizer, 750",
          "Processed Tfidf Vectorizer, 1000",
          "Processed Tfidf Vectorizer, 2000",
          "RoBERTa, 100",
          "RoBERTa, 250",
          "RoBERTa, 500",
          "RoBERTa, 750",
          "RoBERTa, 1000",
          "RoBERTa, 2000",
          "Sentence Transformers, 100",
          "Sentence Transformers, 250",
          "Sentence Transformers, 500",
          "Sentence Transformers, 750",
          "Sentence Transformers, 1000",
          "Sentence Transformers, 2000",
          "SimHash, 100",
          "SimHash, 250",
          "SimHash, 500",
          "SimHash, 750",
          "SimHash, 1000",
          "SimHash, 2000",
          "Tfidf Vectorizer, 100",
          "Tfidf Vectorizer, 250",
          "Tfidf Vectorizer, 500",
          "Tfidf Vectorizer, 750",
          "Tfidf Vectorizer, 1000",
          "Tfidf Vectorizer, 2000",
          "USE, 100",
          "USE, 250",
          "USE, 500",
          "USE, 750",
          "USE, 1000",
          "USE, 2000",
          "UniSim, 100",
          "UniSim, 250",
          "UniSim, 500",
          "UniSim, 750",
          "UniSim, 1000",
          "UniSim, 2000",
          "Word2Vec, 100",
          "Word2Vec, 250",
          "Word2Vec, 500",
          "Word2Vec, 750",
          "Word2Vec, 1000",
          "Word2Vec, 2000"
         ],
         "tickvals": {
          "bdata": "AAECAwQFBgcICQoLDA0ODxAREhMUFRYXGBkaGxwdHh8gISIjJCUmJygpKissLS4vMDEyMzQ1Njc4OTo7PD0+P0BBQkNERUZHSElKS0xNTk9QUVJTVFVWV1hZWltcXV5fYGFiY2RlZmdoaWpr",
          "dtype": "i1"
         },
         "title": {
          "text": "Comparison Method and Text Size"
         }
        }
       }
      }
     },
     "metadata": {},
     "output_type": "display_data"
    }
   ],
   "source": [
    "import plotly.graph_objects as go\n",
    "import pandas as pd\n",
    "import numpy as np\n",
    "\n",
    "df = pd.read_csv('./data/pub2-noise/output/comparison_results.csv')\n",
    "\n",
    "new_rows = []\n",
    "for comparison_method in df['comparison_method'].unique():\n",
    "    for size in df['size'].unique():\n",
    "        for augmentation_method in df['augmentation_method'].unique():\n",
    "            new_rows.append({\n",
    "                'comparison_method': comparison_method,\n",
    "                'size': size,\n",
    "                'augmentation_method': augmentation_method,\n",
    "                'rate': 0,\n",
    "                'similarity': 1\n",
    "            })\n",
    "\n",
    "new_df = pd.DataFrame(new_rows)\n",
    "\n",
    "df = pd.concat([df, new_df], ignore_index=True)\n",
    "\n",
    "df['prefix'] = df['augmentation_method'].apply(lambda x: x.split('_')[0])\n",
    "\n",
    "df = df[df[\"prefix\"] == \"char\"]\n",
    "\n",
    "prefixes = df['prefix'].unique()\n",
    "comparison_methods = df['comparison_method'].unique()\n",
    "\n",
    "combined_data = df.groupby(['size', 'rate', 'comparison_method'], as_index=False)['similarity'].mean()\n",
    "\n",
    "heatmap_data = combined_data.pivot_table(index=['comparison_method', 'size'], \n",
    "                                         columns='rate', \n",
    "                                         values='similarity')\n",
    "\n",
    "y_values = heatmap_data.index\n",
    "y_tickvals = np.arange(len(y_values))\n",
    "\n",
    "fig = go.Figure(data=go.Heatmap(\n",
    "    z=heatmap_data.values,\n",
    "    x=heatmap_data.columns,\n",
    "    y=y_tickvals, \n",
    "    colorscale='Viridis',\n",
    "    colorbar=dict(title='Similarity'),\n",
    "    zmin=0,\n",
    "    zmax=1,\n",
    "    hoverongaps=False,\n",
    "    text=heatmap_data.values.round(2), \n",
    "    texttemplate=\"%{text}\",\n",
    "    xgap=1, \n",
    "    ygap=1, \n",
    "))\n",
    "\n",
    "fig.update_layout(\n",
    "    title='Similarity by Noise Level, Text Size, and Comparison Method',\n",
    "    xaxis_title='Noise Level',\n",
    "    yaxis_title='Comparison Method and Text Size',\n",
    "    xaxis=dict(tickangle=45, tickmode='array', tickvals=heatmap_data.columns, ticktext=heatmap_data.columns),\n",
    "    yaxis=dict(\n",
    "        tickmode='array',\n",
    "        tickvals=y_tickvals, \n",
    "        ticktext=[f\"{idx[0]}, {idx[1]}\" for idx in y_values], \n",
    "    ),\n",
    "    autosize=False,\n",
    "    width=1200,\n",
    "    height=6400,\n",
    ")\n",
    "\n",
    "fig.update_xaxes(tickangle=45)\n",
    "\n",
    "fig.show()"
   ]
  },
  {
   "cell_type": "code",
   "execution_count": 34,
   "metadata": {},
   "outputs": [
    {
     "data": {
      "application/vnd.plotly.v1+json": {
       "config": {
        "plotlyServerURL": "https://plot.ly"
       },
       "data": [
        {
         "colorbar": {
          "title": {
           "text": "Similarity"
          }
         },
         "colorscale": [
          [
           0,
           "#440154"
          ],
          [
           0.1111111111111111,
           "#482878"
          ],
          [
           0.2222222222222222,
           "#3e4989"
          ],
          [
           0.3333333333333333,
           "#31688e"
          ],
          [
           0.4444444444444444,
           "#26828e"
          ],
          [
           0.5555555555555556,
           "#1f9e89"
          ],
          [
           0.6666666666666666,
           "#35b779"
          ],
          [
           0.7777777777777778,
           "#6ece58"
          ],
          [
           0.8888888888888888,
           "#b5de2b"
          ],
          [
           1,
           "#fde725"
          ]
         ],
         "hoverongaps": false,
         "text": {
          "bdata": "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",
          "dtype": "f8",
          "shape": "108, 20"
         },
         "texttemplate": "%{text}",
         "type": "heatmap",
         "x": {
          "bdata": "AAAAAAAAAACamZmZmZmpP5qZmZmZmbk/MzMzMzMzwz+amZmZmZnJPwAAAAAAANA/MzMzMzMz0z9mZmZmZmbWP5qZmZmZmdk/zczMzMzM3D8AAAAAAADgP5qZmZmZmeE/MzMzMzMz4z/NzMzMzMzkP2ZmZmZmZuY/AAAAAAAA6D+amZmZmZnpPzMzMzMzM+s/zczMzMzM7D9mZmZmZmbuPw==",
          "dtype": "f8"
         },
         "xgap": 1,
         "y": {
          "bdata": "AAECAwQFBgcICQoLDA0ODxAREhMUFRYXGBkaGxwdHh8gISIjJCUmJygpKissLS4vMDEyMzQ1Njc4OTo7PD0+P0BBQkNERUZHSElKS0xNTk9QUVJTVFVWV1hZWltcXV5fYGFiY2RlZmdoaWpr",
          "dtype": "i1"
         },
         "ygap": 1,
         "z": {
          "bdata": "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",
          "dtype": "f8",
          "shape": "108, 20"
         },
         "zmax": 1,
         "zmin": 0
        }
       ],
       "layout": {
        "autosize": false,
        "height": 6400,
        "template": {
         "data": {
          "bar": [
           {
            "error_x": {
             "color": "#2a3f5f"
            },
            "error_y": {
             "color": "#2a3f5f"
            },
            "marker": {
             "line": {
              "color": "#E5ECF6",
              "width": 0.5
             },
             "pattern": {
              "fillmode": "overlay",
              "size": 10,
              "solidity": 0.2
             }
            },
            "type": "bar"
           }
          ],
          "barpolar": [
           {
            "marker": {
             "line": {
              "color": "#E5ECF6",
              "width": 0.5
             },
             "pattern": {
              "fillmode": "overlay",
              "size": 10,
              "solidity": 0.2
             }
            },
            "type": "barpolar"
           }
          ],
          "carpet": [
           {
            "aaxis": {
             "endlinecolor": "#2a3f5f",
             "gridcolor": "white",
             "linecolor": "white",
             "minorgridcolor": "white",
             "startlinecolor": "#2a3f5f"
            },
            "baxis": {
             "endlinecolor": "#2a3f5f",
             "gridcolor": "white",
             "linecolor": "white",
             "minorgridcolor": "white",
             "startlinecolor": "#2a3f5f"
            },
            "type": "carpet"
           }
          ],
          "choropleth": [
           {
            "colorbar": {
             "outlinewidth": 0,
             "ticks": ""
            },
            "type": "choropleth"
           }
          ],
          "contour": [
           {
            "colorbar": {
             "outlinewidth": 0,
             "ticks": ""
            },
            "colorscale": [
             [
              0,
              "#0d0887"
             ],
             [
              0.1111111111111111,
              "#46039f"
             ],
             [
              0.2222222222222222,
              "#7201a8"
             ],
             [
              0.3333333333333333,
              "#9c179e"
             ],
             [
              0.4444444444444444,
              "#bd3786"
             ],
             [
              0.5555555555555556,
              "#d8576b"
             ],
             [
              0.6666666666666666,
              "#ed7953"
             ],
             [
              0.7777777777777778,
              "#fb9f3a"
             ],
             [
              0.8888888888888888,
              "#fdca26"
             ],
             [
              1,
              "#f0f921"
             ]
            ],
            "type": "contour"
           }
          ],
          "contourcarpet": [
           {
            "colorbar": {
             "outlinewidth": 0,
             "ticks": ""
            },
            "type": "contourcarpet"
           }
          ],
          "heatmap": [
           {
            "colorbar": {
             "outlinewidth": 0,
             "ticks": ""
            },
            "colorscale": [
             [
              0,
              "#0d0887"
             ],
             [
              0.1111111111111111,
              "#46039f"
             ],
             [
              0.2222222222222222,
              "#7201a8"
             ],
             [
              0.3333333333333333,
              "#9c179e"
             ],
             [
              0.4444444444444444,
              "#bd3786"
             ],
             [
              0.5555555555555556,
              "#d8576b"
             ],
             [
              0.6666666666666666,
              "#ed7953"
             ],
             [
              0.7777777777777778,
              "#fb9f3a"
             ],
             [
              0.8888888888888888,
              "#fdca26"
             ],
             [
              1,
              "#f0f921"
             ]
            ],
            "type": "heatmap"
           }
          ],
          "histogram": [
           {
            "marker": {
             "pattern": {
              "fillmode": "overlay",
              "size": 10,
              "solidity": 0.2
             }
            },
            "type": "histogram"
           }
          ],
          "histogram2d": [
           {
            "colorbar": {
             "outlinewidth": 0,
             "ticks": ""
            },
            "colorscale": [
             [
              0,
              "#0d0887"
             ],
             [
              0.1111111111111111,
              "#46039f"
             ],
             [
              0.2222222222222222,
              "#7201a8"
             ],
             [
              0.3333333333333333,
              "#9c179e"
             ],
             [
              0.4444444444444444,
              "#bd3786"
             ],
             [
              0.5555555555555556,
              "#d8576b"
             ],
             [
              0.6666666666666666,
              "#ed7953"
             ],
             [
              0.7777777777777778,
              "#fb9f3a"
             ],
             [
              0.8888888888888888,
              "#fdca26"
             ],
             [
              1,
              "#f0f921"
             ]
            ],
            "type": "histogram2d"
           }
          ],
          "histogram2dcontour": [
           {
            "colorbar": {
             "outlinewidth": 0,
             "ticks": ""
            },
            "colorscale": [
             [
              0,
              "#0d0887"
             ],
             [
              0.1111111111111111,
              "#46039f"
             ],
             [
              0.2222222222222222,
              "#7201a8"
             ],
             [
              0.3333333333333333,
              "#9c179e"
             ],
             [
              0.4444444444444444,
              "#bd3786"
             ],
             [
              0.5555555555555556,
              "#d8576b"
             ],
             [
              0.6666666666666666,
              "#ed7953"
             ],
             [
              0.7777777777777778,
              "#fb9f3a"
             ],
             [
              0.8888888888888888,
              "#fdca26"
             ],
             [
              1,
              "#f0f921"
             ]
            ],
            "type": "histogram2dcontour"
           }
          ],
          "mesh3d": [
           {
            "colorbar": {
             "outlinewidth": 0,
             "ticks": ""
            },
            "type": "mesh3d"
           }
          ],
          "parcoords": [
           {
            "line": {
             "colorbar": {
              "outlinewidth": 0,
              "ticks": ""
             }
            },
            "type": "parcoords"
           }
          ],
          "pie": [
           {
            "automargin": true,
            "type": "pie"
           }
          ],
          "scatter": [
           {
            "fillpattern": {
             "fillmode": "overlay",
             "size": 10,
             "solidity": 0.2
            },
            "type": "scatter"
           }
          ],
          "scatter3d": [
           {
            "line": {
             "colorbar": {
              "outlinewidth": 0,
              "ticks": ""
             }
            },
            "marker": {
             "colorbar": {
              "outlinewidth": 0,
              "ticks": ""
             }
            },
            "type": "scatter3d"
           }
          ],
          "scattercarpet": [
           {
            "marker": {
             "colorbar": {
              "outlinewidth": 0,
              "ticks": ""
             }
            },
            "type": "scattercarpet"
           }
          ],
          "scattergeo": [
           {
            "marker": {
             "colorbar": {
              "outlinewidth": 0,
              "ticks": ""
             }
            },
            "type": "scattergeo"
           }
          ],
          "scattergl": [
           {
            "marker": {
             "colorbar": {
              "outlinewidth": 0,
              "ticks": ""
             }
            },
            "type": "scattergl"
           }
          ],
          "scattermap": [
           {
            "marker": {
             "colorbar": {
              "outlinewidth": 0,
              "ticks": ""
             }
            },
            "type": "scattermap"
           }
          ],
          "scattermapbox": [
           {
            "marker": {
             "colorbar": {
              "outlinewidth": 0,
              "ticks": ""
             }
            },
            "type": "scattermapbox"
           }
          ],
          "scatterpolar": [
           {
            "marker": {
             "colorbar": {
              "outlinewidth": 0,
              "ticks": ""
             }
            },
            "type": "scatterpolar"
           }
          ],
          "scatterpolargl": [
           {
            "marker": {
             "colorbar": {
              "outlinewidth": 0,
              "ticks": ""
             }
            },
            "type": "scatterpolargl"
           }
          ],
          "scatterternary": [
           {
            "marker": {
             "colorbar": {
              "outlinewidth": 0,
              "ticks": ""
             }
            },
            "type": "scatterternary"
           }
          ],
          "surface": [
           {
            "colorbar": {
             "outlinewidth": 0,
             "ticks": ""
            },
            "colorscale": [
             [
              0,
              "#0d0887"
             ],
             [
              0.1111111111111111,
              "#46039f"
             ],
             [
              0.2222222222222222,
              "#7201a8"
             ],
             [
              0.3333333333333333,
              "#9c179e"
             ],
             [
              0.4444444444444444,
              "#bd3786"
             ],
             [
              0.5555555555555556,
              "#d8576b"
             ],
             [
              0.6666666666666666,
              "#ed7953"
             ],
             [
              0.7777777777777778,
              "#fb9f3a"
             ],
             [
              0.8888888888888888,
              "#fdca26"
             ],
             [
              1,
              "#f0f921"
             ]
            ],
            "type": "surface"
           }
          ],
          "table": [
           {
            "cells": {
             "fill": {
              "color": "#EBF0F8"
             },
             "line": {
              "color": "white"
             }
            },
            "header": {
             "fill": {
              "color": "#C8D4E3"
             },
             "line": {
              "color": "white"
             }
            },
            "type": "table"
           }
          ]
         },
         "layout": {
          "annotationdefaults": {
           "arrowcolor": "#2a3f5f",
           "arrowhead": 0,
           "arrowwidth": 1
          },
          "autotypenumbers": "strict",
          "coloraxis": {
           "colorbar": {
            "outlinewidth": 0,
            "ticks": ""
           }
          },
          "colorscale": {
           "diverging": [
            [
             0,
             "#8e0152"
            ],
            [
             0.1,
             "#c51b7d"
            ],
            [
             0.2,
             "#de77ae"
            ],
            [
             0.3,
             "#f1b6da"
            ],
            [
             0.4,
             "#fde0ef"
            ],
            [
             0.5,
             "#f7f7f7"
            ],
            [
             0.6,
             "#e6f5d0"
            ],
            [
             0.7,
             "#b8e186"
            ],
            [
             0.8,
             "#7fbc41"
            ],
            [
             0.9,
             "#4d9221"
            ],
            [
             1,
             "#276419"
            ]
           ],
           "sequential": [
            [
             0,
             "#0d0887"
            ],
            [
             0.1111111111111111,
             "#46039f"
            ],
            [
             0.2222222222222222,
             "#7201a8"
            ],
            [
             0.3333333333333333,
             "#9c179e"
            ],
            [
             0.4444444444444444,
             "#bd3786"
            ],
            [
             0.5555555555555556,
             "#d8576b"
            ],
            [
             0.6666666666666666,
             "#ed7953"
            ],
            [
             0.7777777777777778,
             "#fb9f3a"
            ],
            [
             0.8888888888888888,
             "#fdca26"
            ],
            [
             1,
             "#f0f921"
            ]
           ],
           "sequentialminus": [
            [
             0,
             "#0d0887"
            ],
            [
             0.1111111111111111,
             "#46039f"
            ],
            [
             0.2222222222222222,
             "#7201a8"
            ],
            [
             0.3333333333333333,
             "#9c179e"
            ],
            [
             0.4444444444444444,
             "#bd3786"
            ],
            [
             0.5555555555555556,
             "#d8576b"
            ],
            [
             0.6666666666666666,
             "#ed7953"
            ],
            [
             0.7777777777777778,
             "#fb9f3a"
            ],
            [
             0.8888888888888888,
             "#fdca26"
            ],
            [
             1,
             "#f0f921"
            ]
           ]
          },
          "colorway": [
           "#636efa",
           "#EF553B",
           "#00cc96",
           "#ab63fa",
           "#FFA15A",
           "#19d3f3",
           "#FF6692",
           "#B6E880",
           "#FF97FF",
           "#FECB52"
          ],
          "font": {
           "color": "#2a3f5f"
          },
          "geo": {
           "bgcolor": "white",
           "lakecolor": "white",
           "landcolor": "#E5ECF6",
           "showlakes": true,
           "showland": true,
           "subunitcolor": "white"
          },
          "hoverlabel": {
           "align": "left"
          },
          "hovermode": "closest",
          "mapbox": {
           "style": "light"
          },
          "paper_bgcolor": "white",
          "plot_bgcolor": "#E5ECF6",
          "polar": {
           "angularaxis": {
            "gridcolor": "white",
            "linecolor": "white",
            "ticks": ""
           },
           "bgcolor": "#E5ECF6",
           "radialaxis": {
            "gridcolor": "white",
            "linecolor": "white",
            "ticks": ""
           }
          },
          "scene": {
           "xaxis": {
            "backgroundcolor": "#E5ECF6",
            "gridcolor": "white",
            "gridwidth": 2,
            "linecolor": "white",
            "showbackground": true,
            "ticks": "",
            "zerolinecolor": "white"
           },
           "yaxis": {
            "backgroundcolor": "#E5ECF6",
            "gridcolor": "white",
            "gridwidth": 2,
            "linecolor": "white",
            "showbackground": true,
            "ticks": "",
            "zerolinecolor": "white"
           },
           "zaxis": {
            "backgroundcolor": "#E5ECF6",
            "gridcolor": "white",
            "gridwidth": 2,
            "linecolor": "white",
            "showbackground": true,
            "ticks": "",
            "zerolinecolor": "white"
           }
          },
          "shapedefaults": {
           "line": {
            "color": "#2a3f5f"
           }
          },
          "ternary": {
           "aaxis": {
            "gridcolor": "white",
            "linecolor": "white",
            "ticks": ""
           },
           "baxis": {
            "gridcolor": "white",
            "linecolor": "white",
            "ticks": ""
           },
           "bgcolor": "#E5ECF6",
           "caxis": {
            "gridcolor": "white",
            "linecolor": "white",
            "ticks": ""
           }
          },
          "title": {
           "x": 0.05
          },
          "xaxis": {
           "automargin": true,
           "gridcolor": "white",
           "linecolor": "white",
           "ticks": "",
           "title": {
            "standoff": 15
           },
           "zerolinecolor": "white",
           "zerolinewidth": 2
          },
          "yaxis": {
           "automargin": true,
           "gridcolor": "white",
           "linecolor": "white",
           "ticks": "",
           "title": {
            "standoff": 15
           },
           "zerolinecolor": "white",
           "zerolinewidth": 2
          }
         }
        },
        "title": {
         "text": "Similarity by Noise Level, Text Size, and Comparison Method"
        },
        "width": 1200,
        "xaxis": {
         "tickangle": 45,
         "tickmode": "array",
         "ticktext": {
          "bdata": "AAAAAAAAAACamZmZmZmpP5qZmZmZmbk/MzMzMzMzwz+amZmZmZnJPwAAAAAAANA/MzMzMzMz0z9mZmZmZmbWP5qZmZmZmdk/zczMzMzM3D8AAAAAAADgP5qZmZmZmeE/MzMzMzMz4z/NzMzMzMzkP2ZmZmZmZuY/AAAAAAAA6D+amZmZmZnpPzMzMzMzM+s/zczMzMzM7D9mZmZmZmbuPw==",
          "dtype": "f8"
         },
         "tickvals": {
          "bdata": "AAAAAAAAAACamZmZmZmpP5qZmZmZmbk/MzMzMzMzwz+amZmZmZnJPwAAAAAAANA/MzMzMzMz0z9mZmZmZmbWP5qZmZmZmdk/zczMzMzM3D8AAAAAAADgP5qZmZmZmeE/MzMzMzMz4z/NzMzMzMzkP2ZmZmZmZuY/AAAAAAAA6D+amZmZmZnpPzMzMzMzM+s/zczMzMzM7D9mZmZmZmbuPw==",
          "dtype": "f8"
         },
         "title": {
          "text": "Noise Level (rate)"
         }
        },
        "yaxis": {
         "tickmode": "array",
         "ticktext": [
          "100, 3-shingle MinHash",
          "100, BERT",
          "100, Count Vectorizer",
          "100, FastText",
          "100, GLoVe",
          "100, Jaccard",
          "100, Levenshtein",
          "100, MinHash",
          "100, Processed Count Vectorizer",
          "100, Processed SimHash",
          "100, Processed Tfidf Vectorizer",
          "100, RoBERTa",
          "100, Sentence Transformers",
          "100, SimHash",
          "100, Tfidf Vectorizer",
          "100, USE",
          "100, UniSim",
          "100, Word2Vec",
          "250, 3-shingle MinHash",
          "250, BERT",
          "250, Count Vectorizer",
          "250, FastText",
          "250, GLoVe",
          "250, Jaccard",
          "250, Levenshtein",
          "250, MinHash",
          "250, Processed Count Vectorizer",
          "250, Processed SimHash",
          "250, Processed Tfidf Vectorizer",
          "250, RoBERTa",
          "250, Sentence Transformers",
          "250, SimHash",
          "250, Tfidf Vectorizer",
          "250, USE",
          "250, UniSim",
          "250, Word2Vec",
          "500, 3-shingle MinHash",
          "500, BERT",
          "500, Count Vectorizer",
          "500, FastText",
          "500, GLoVe",
          "500, Jaccard",
          "500, Levenshtein",
          "500, MinHash",
          "500, Processed Count Vectorizer",
          "500, Processed SimHash",
          "500, Processed Tfidf Vectorizer",
          "500, RoBERTa",
          "500, Sentence Transformers",
          "500, SimHash",
          "500, Tfidf Vectorizer",
          "500, USE",
          "500, UniSim",
          "500, Word2Vec",
          "750, 3-shingle MinHash",
          "750, BERT",
          "750, Count Vectorizer",
          "750, FastText",
          "750, GLoVe",
          "750, Jaccard",
          "750, Levenshtein",
          "750, MinHash",
          "750, Processed Count Vectorizer",
          "750, Processed SimHash",
          "750, Processed Tfidf Vectorizer",
          "750, RoBERTa",
          "750, Sentence Transformers",
          "750, SimHash",
          "750, Tfidf Vectorizer",
          "750, USE",
          "750, UniSim",
          "750, Word2Vec",
          "1000, 3-shingle MinHash",
          "1000, BERT",
          "1000, Count Vectorizer",
          "1000, FastText",
          "1000, GLoVe",
          "1000, Jaccard",
          "1000, Levenshtein",
          "1000, MinHash",
          "1000, Processed Count Vectorizer",
          "1000, Processed SimHash",
          "1000, Processed Tfidf Vectorizer",
          "1000, RoBERTa",
          "1000, Sentence Transformers",
          "1000, SimHash",
          "1000, Tfidf Vectorizer",
          "1000, USE",
          "1000, UniSim",
          "1000, Word2Vec",
          "2000, 3-shingle MinHash",
          "2000, BERT",
          "2000, Count Vectorizer",
          "2000, FastText",
          "2000, GLoVe",
          "2000, Jaccard",
          "2000, Levenshtein",
          "2000, MinHash",
          "2000, Processed Count Vectorizer",
          "2000, Processed SimHash",
          "2000, Processed Tfidf Vectorizer",
          "2000, RoBERTa",
          "2000, Sentence Transformers",
          "2000, SimHash",
          "2000, Tfidf Vectorizer",
          "2000, USE",
          "2000, UniSim",
          "2000, Word2Vec"
         ],
         "tickvals": {
          "bdata": "AAECAwQFBgcICQoLDA0ODxAREhMUFRYXGBkaGxwdHh8gISIjJCUmJygpKissLS4vMDEyMzQ1Njc4OTo7PD0+P0BBQkNERUZHSElKS0xNTk9QUVJTVFVWV1hZWltcXV5fYGFiY2RlZmdoaWpr",
          "dtype": "i1"
         },
         "title": {
          "text": "Text Size and Comparison Method"
         }
        }
       }
      }
     },
     "metadata": {},
     "output_type": "display_data"
    }
   ],
   "source": [
    "import plotly.graph_objects as go\n",
    "import pandas as pd\n",
    "import numpy as np\n",
    "\n",
    "df = pd.read_csv('./data/pub2-noise/output/comparison_results.csv')\n",
    "\n",
    "new_rows = []\n",
    "for comparison_method in df['comparison_method'].unique():\n",
    "    for size in df['size'].unique():\n",
    "        for augmentation_method in df['augmentation_method'].unique():\n",
    "            new_rows.append({\n",
    "                'comparison_method': comparison_method,\n",
    "                'size': size,\n",
    "                'augmentation_method': augmentation_method,\n",
    "                'rate': 0,\n",
    "                'similarity': 1\n",
    "            })\n",
    "\n",
    "new_df = pd.DataFrame(new_rows)\n",
    "\n",
    "df = pd.concat([df, new_df], ignore_index=True)\n",
    "\n",
    "df['prefix'] = df['augmentation_method'].apply(lambda x: x.split('_')[0])\n",
    "\n",
    "df = df[df[\"prefix\"] == \"char\"]\n",
    "\n",
    "prefixes = df['prefix'].unique()\n",
    "\n",
    "comparison_methods = df['comparison_method'].unique()\n",
    "\n",
    "combined_data = pd.DataFrame()\n",
    "\n",
    "combined_data = df.groupby(['size', 'rate', 'comparison_method'], as_index=False)['similarity'].mean()\n",
    "\n",
    "combined_data = combined_data.sort_values(by=['size', 'comparison_method'])\n",
    "\n",
    "heatmap_data = combined_data.pivot_table(index=['size', 'comparison_method'], \n",
    "                                         columns='rate', \n",
    "                                         values='similarity')\n",
    "\n",
    "y_values = heatmap_data.index\n",
    "y_tickvals = np.arange(len(y_values))\n",
    "\n",
    "fig = go.Figure(data=go.Heatmap(\n",
    "    z=heatmap_data.values,\n",
    "    x=heatmap_data.columns,\n",
    "    y=y_tickvals, \n",
    "    colorscale='Viridis',\n",
    "    colorbar=dict(title='Similarity'),\n",
    "    zmin=0,\n",
    "    zmax=1,\n",
    "    hoverongaps=False,\n",
    "    text=heatmap_data.values.round(2), \n",
    "    texttemplate=\"%{text}\",\n",
    "    xgap=1, \n",
    "    ygap=1, \n",
    "))\n",
    "\n",
    "fig.update_layout(\n",
    "    title='Similarity by Noise Level, Text Size, and Comparison Method',\n",
    "    xaxis_title='Noise Level (rate)',\n",
    "    yaxis_title='Text Size and Comparison Method',\n",
    "    xaxis=dict(tickangle=45, tickmode='array', tickvals=heatmap_data.columns, ticktext=heatmap_data.columns),\n",
    "    yaxis=dict(\n",
    "        tickmode='array',\n",
    "        tickvals=y_tickvals, \n",
    "        ticktext=[f\"{idx[0]}, {idx[1]}\" for idx in y_values], \n",
    "    ),\n",
    "    autosize=False,\n",
    "    width=1200,\n",
    "    height=6400,\n",
    ")\n",
    "\n",
    "fig.update_xaxes(tickangle=45)\n",
    "\n",
    "fig.show()"
   ]
  },
  {
   "cell_type": "markdown",
   "metadata": {},
   "source": [
    "Нарезка"
   ]
  },
  {
   "cell_type": "code",
   "execution_count": null,
   "metadata": {},
   "outputs": [],
   "source": [
    "import plotly.graph_objects as go\n",
    "import pandas as pd\n",
    "import numpy as np\n",
    "from math import ceil\n",
    "\n",
    "df = pd.read_csv('./data/pub2-noise/output/comparison_results.csv')\n",
    "\n",
    "# Добавляем нулевые значения\n",
    "new_rows = []\n",
    "for comparison_method in df['comparison_method'].unique():\n",
    "    for size in df['size'].unique():\n",
    "        for augmentation_method in df['augmentation_method'].unique():\n",
    "            new_rows.append({\n",
    "                'comparison_method': comparison_method,\n",
    "                'size': size,\n",
    "                'augmentation_method': augmentation_method,\n",
    "                'rate': 0,\n",
    "                'similarity': 1\n",
    "            })\n",
    "\n",
    "new_df = pd.DataFrame(new_rows)\n",
    "df = pd.concat([df, new_df], ignore_index=True)\n",
    "df['prefix'] = df['augmentation_method'].apply(lambda x: x.split('_')[0])\n",
    "df = df[df[\"prefix\"] == \"char\"]\n",
    "\n",
    "# Жестко заданный порядок методов (как требуется)\n",
    "CUSTOM_ORDER = [\n",
    "    \"Count Vectorizer\",\n",
    "    \"Processed Count Vectorizer\",\n",
    "    \"Tfidf Vectorizer\",\n",
    "    \"Processed Tfidf Vectorizer\",\n",
    "    # \"Jaccard\",\n",
    "    \n",
    "    \"MinHash\",\n",
    "    \"3-shingle MinHash\",\n",
    "    \"SimHash\",\n",
    "    \"Processed SimHash\",\n",
    "\n",
    "    \"Levenshtein\",\n",
    "    \"Word2Vec\",\n",
    "    \"GLoVe\",\n",
    "    \"FastText\",\n",
    "\n",
    "    \"USE\",\n",
    "    \"Sentence Transformers\",\n",
    "    \"BERT\",\n",
    "    \"UniSim\",\n",
    "]\n",
    "\n",
    "# Параметр: сколько методов показывать на одной heatmap\n",
    "COMPARISON_METHODS_PER_PLOT = 4\n",
    "\n",
    "# Фильтруем только те методы, которые есть в данных, но сохраняем заданный порядок\n",
    "existing_methods = set(df['comparison_method'].unique())\n",
    "comparison_methods = [m for m in CUSTOM_ORDER if m in existing_methods]\n",
    "\n",
    "# Выводим предупреждения о недостающих методах\n",
    "missing_in_data = set(CUSTOM_ORDER) - existing_methods\n",
    "if missing_in_data:\n",
    "    print(f\"Warning: These methods are in CUSTOM_ORDER but missing in data: {missing_in_data}\")\n",
    "\n",
    "# Вычисляем количество heatmaps\n",
    "num_plots = ceil(len(comparison_methods) / COMPARISON_METHODS_PER_PLOT)\n",
    "\n",
    "# Создаем heatmap для каждой группы методов\n",
    "for i in range(num_plots):\n",
    "    start_idx = i * COMPARISON_METHODS_PER_PLOT\n",
    "    end_idx = start_idx + COMPARISON_METHODS_PER_PLOT\n",
    "    current_methods = comparison_methods[start_idx:end_idx]\n",
    "    \n",
    "    # Фильтруем данные для текущей группы\n",
    "    current_df = df[df['comparison_method'].isin(current_methods)].copy()\n",
    "    \n",
    "    # Преобразуем в категориальный тип с жестко заданным порядком\n",
    "    current_df['comparison_method'] = pd.Categorical(\n",
    "        current_df['comparison_method'],\n",
    "        categories=current_methods,\n",
    "        ordered=True\n",
    "    )\n",
    "    \n",
    "    # Сортируем строго по заданному порядку\n",
    "    current_df.sort_values(['comparison_method', 'size', 'rate'], inplace=True)\n",
    "    \n",
    "    # Агрегируем данные\n",
    "    combined_data = current_df.groupby(['size', 'rate', 'comparison_method'], as_index=False)['similarity'].mean()\n",
    "    \n",
    "    # Создаем сводную таблицу\n",
    "    heatmap_data = combined_data.pivot_table(\n",
    "        index=['comparison_method', 'size'],\n",
    "        columns='rate',\n",
    "        values='similarity'\n",
    "    )\n",
    "\n",
    "    y_values = heatmap_data.index\n",
    "    y_tickvals = np.arange(len(y_values))\n",
    "    \n",
    "    # Создаем heatmap\n",
    "    fig = go.Figure(data=go.Heatmap(\n",
    "        z=heatmap_data.values,\n",
    "        x=heatmap_data.columns,\n",
    "        y=y_tickvals,\n",
    "        colorscale='Viridis',\n",
    "        colorbar=dict(title='Similarity'),\n",
    "        zmin=0,\n",
    "        zmax=1,\n",
    "        hoverongaps=False,\n",
    "        text=heatmap_data.values.round(2),\n",
    "        texttemplate=\"%{text}\",\n",
    "        xgap=1,\n",
    "        ygap=1,\n",
    "    ))\n",
    "\n",
    "    fig.update_layout(\n",
    "        title=f'Similarity by Noise Level, Text Size, and Comparison Method',\n",
    "        xaxis_title='Noise Level',\n",
    "        yaxis_title='Comparison Method and Text Size',\n",
    "        xaxis=dict(tickangle=45, tickmode='array', tickvals=heatmap_data.columns, ticktext=heatmap_data.columns),\n",
    "        yaxis=dict(\n",
    "            tickmode='array',\n",
    "            tickvals=y_tickvals,\n",
    "            ticktext=[f\"{idx[0]}, {idx[1]}\" for idx in y_values],\n",
    "        ),\n",
    "        autosize=False,\n",
    "        width=1200,\n",
    "        height=500 + 100 * len(current_methods),  # Динамическая высота\n",
    "    )\n",
    "\n",
    "    fig.update_xaxes(tickangle=45)\n",
    "    fig.show()"
   ]
  }
 ],
 "metadata": {
  "kernelspec": {
   "display_name": ".venv",
   "language": "python",
   "name": "python3"
  },
  "language_info": {
   "codemirror_mode": {
    "name": "ipython",
    "version": 3
   },
   "file_extension": ".py",
   "mimetype": "text/x-python",
   "name": "python",
   "nbconvert_exporter": "python",
   "pygments_lexer": "ipython3",
   "version": "3.11.7"
  }
 },
 "nbformat": 4,
 "nbformat_minor": 2
}
